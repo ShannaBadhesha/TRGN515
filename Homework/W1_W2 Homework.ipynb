{
 "cells": [
  {
   "cell_type": "markdown",
   "id": "cde778c6-d3de-4153-83ce-292b42a97e00",
   "metadata": {
    "tags": []
   },
   "source": [
    "# W1 - GitHub assignment\n",
    "\n",
    "- Find instructions to transfer files (final, completed homework in this case) to your Github repository\n",
    "- Share with me and your cohort a written report of instructions for file sharing from a server to GitHub repository (you can use Slack for exchanging ideas)\n"
   ]
  },
  {
   "cell_type": "markdown",
   "id": "1ad05518-d5ed-47cb-8bc2-d08371316493",
   "metadata": {},
   "source": [
    "# W1-HW1\n",
    "\n",
    "Let's remove some elements from the list, without changing the original list.\n",
    "Some hints for you to use:\n",
    "\n",
    "#pop()\n",
    "\n",
    "#remove()\n"
   ]
  },
  {
   "cell_type": "code",
   "execution_count": 12,
   "id": "e8a48e16-b0e7-45f8-858d-4f5893372139",
   "metadata": {},
   "outputs": [
    {
     "name": "stdout",
     "output_type": "stream",
     "text": [
      "my original list: ['yellow', 'blue', 'green', 'red', 'orange', 'purple']\n",
      "my modified list: ['yellow', 'blue', 'red', 'orange', 'purple']\n"
     ]
    }
   ],
   "source": [
    "#Create a list and then create a new list from it using 'list' \n",
    "my_list = ['yellow', 'blue', 'green', 'red', 'orange', 'purple']\n",
    "print('my original list:', my_list)\n",
    "modified_my_list= list(my_list)\n",
    "#Remove the second index using 'remove' on the duplicated list \n",
    "modified_my_list.remove(modified_my_list[2])\n",
    "print('my modified list:', modified_my_list)\n",
    "\n",
    "#Alternative ways to create a duplicate of the list would be by creating a slice:\n",
    "    #modified_my_list= my_list[:]\n",
    "\n",
    "#Using the remove command requires one argument \n",
    "\n",
    "#Alternative way to 'remove' would be using 'pop' which also takes at most 1 argument\n",
    "    #my_list = ['yellow', 'blue', 'green', 'red', 'orange', 'purple']\n",
    "    #print('my original list:', my_list)\n",
    "    #modified_my_list= list(my_list)\n",
    "    #modified_my_list.pop('blue')\n",
    "    #print('my modified list:', modified_my_list)"
   ]
  },
  {
   "cell_type": "markdown",
   "id": "dce83d59-a2d0-4915-b6a1-3eaa9ec27df1",
   "metadata": {},
   "source": [
    "# W1-HW2 \n",
    "\n",
    "One other solution is to use copy() method, in order to avoid making changes to the original list\n",
    "\n",
    "use copy() method on the 'main_list' given in W1 Jupyter notebook and print it.\n"
   ]
  },
  {
   "cell_type": "code",
   "execution_count": 2,
   "id": "2e2cac6f-9265-436b-89cb-926dbb7c03c0",
   "metadata": {},
   "outputs": [
    {
     "name": "stdout",
     "output_type": "stream",
     "text": [
      "main list: [1, 2, 3]\n",
      "copied_list: [1, 2, 3]\n",
      "modified list: [2, 3]\n"
     ]
    }
   ],
   "source": [
    "#main_list is from W1\n",
    "main_list = [1, 2, 3]\n",
    "#using 'copy' to make a copy of the original list\n",
    "copied_list= main_list.copy()\n",
    "#using 'format' to print out both the main_list and copied_list\n",
    "print('main list: {}\\ncopied_list: {}'.format(main_list, copied_list))\n",
    "\n",
    "#Using the 'remove' method on the copy list would be as following:\n",
    "main_list = [1, 2, 3]\n",
    "copied_list= main_list.copy()\n",
    "copied_list.remove(copied_list[0])\n",
    "print('modified list:', copied_list)"
   ]
  },
  {
   "cell_type": "markdown",
   "id": "c8556415-62cd-4cbe-987a-3317925a70df",
   "metadata": {},
   "source": [
    "# W1-HW3\n",
    "\n",
    "Find 5 dictionary methods and use in different examples. Give three examples to errors, such as KeyError with detailed explanations. You can rely on Jupyter notebook features, such as markdown. For more features, you can refer to: https://www.datacamp.com/community/tutorials/markdown-in-jupyter-notebook\n"
   ]
  },
  {
   "cell_type": "code",
   "execution_count": 3,
   "id": "be0f43f1-c797-4bd6-9f33-8dde9b436d09",
   "metadata": {},
   "outputs": [
    {
     "name": "stdout",
     "output_type": "stream",
     "text": [
      "{'Subaru': 'Japanese', 'Tesla': 'American', 'Mercedes': 'German'}\n"
     ]
    }
   ],
   "source": [
    "#My dictionary\n",
    "\n",
    "my_dict = {\n",
    "    'Subaru' : 'Japanese',\n",
    "    'Tesla' : 'American',\n",
    "    'Mercedes' : 'German',\n",
    "}\n",
    "\n",
    "print(my_dict)"
   ]
  },
  {
   "cell_type": "code",
   "execution_count": 4,
   "id": "ff64aafa-3614-40f7-bf87-981098b69dfb",
   "metadata": {},
   "outputs": [
    {
     "name": "stdout",
     "output_type": "stream",
     "text": [
      "keys: dict_keys(['Subaru', 'Tesla', 'Mercedes'])\n",
      "values: dict_values(['Japanese', 'American', 'German'])\n",
      "items: dict_items([('Subaru', 'Japanese'), ('Tesla', 'American'), ('Mercedes', 'German')])\n",
      "updated dict using pop: {'Tesla': 'American', 'Mercedes': 'German'}\n",
      "d1 before update: {'a': 1, 'b': 2, 'c': 3}\n",
      "d1 after update: {'a': 0, 'b': 1, 'c': 2}\n"
     ]
    }
   ],
   "source": [
    "#Method 1 using 'keys' to get the keys in the key:value pairs\n",
    "\n",
    "my_dict.keys()\n",
    "print('keys: {}'.format(my_dict.keys()))\n",
    "\n",
    "#Method 2 using 'values' to get the values in the key:value pairs\n",
    "my_dict.values()\n",
    "print('values: {}'.format(my_dict.values()))\n",
    "\n",
    "#Method 3 using 'items' to get the key:value pair items \n",
    "my_dict.items()\n",
    "print('items: {}'.format(my_dict.items()))\n",
    "\n",
    "#Method 4 using 'pop' to delete key:pair values from the dictionary\n",
    "updated_my_dict = dict(my_dict)\n",
    "updated_my_dict.pop('Subaru')\n",
    "print('updated dict using pop:', updated_my_dict)\n",
    "\n",
    "#Method 5 using 'update' to update the first dictionary \n",
    "d1= {'a': 1, 'b': 2, 'c': 3}\n",
    "print('d1 before update:', d1)\n",
    "d2= {'a': 0, 'b': 1, 'c': 2}\n",
    "\n",
    "d1.update(d2)\n",
    "print('d1 after update:', d1)"
   ]
  },
  {
   "cell_type": "markdown",
   "id": "fbbbc4b3-26e4-4c78-956d-0557203cead9",
   "metadata": {},
   "source": [
    "## Errors"
   ]
  },
  {
   "cell_type": "code",
   "execution_count": 5,
   "id": "34e7fb79-042c-47e5-ac7b-f142ca56e7d6",
   "metadata": {},
   "outputs": [
    {
     "ename": "KeyError",
     "evalue": "'Toyota'",
     "output_type": "error",
     "traceback": [
      "\u001b[0;31m---------------------------------------------------------------------------\u001b[0m",
      "\u001b[0;31mKeyError\u001b[0m                                  Traceback (most recent call last)",
      "\u001b[0;32m<ipython-input-5-20c7a74515f7>\u001b[0m in \u001b[0;36m<module>\u001b[0;34m\u001b[0m\n\u001b[1;32m      7\u001b[0m }\n\u001b[1;32m      8\u001b[0m \u001b[0;34m\u001b[0m\u001b[0m\n\u001b[0;32m----> 9\u001b[0;31m \u001b[0mprint\u001b[0m\u001b[0;34m(\u001b[0m\u001b[0mmy_dict\u001b[0m\u001b[0;34m[\u001b[0m\u001b[0;34m'Toyota'\u001b[0m\u001b[0;34m]\u001b[0m\u001b[0;34m)\u001b[0m\u001b[0;34m\u001b[0m\u001b[0;34m\u001b[0m\u001b[0m\n\u001b[0m",
      "\u001b[0;31mKeyError\u001b[0m: 'Toyota'"
     ]
    }
   ],
   "source": [
    "# Example 1: KeyError\n",
    "\n",
    "my_dict = {\n",
    "    'Subaru' : 'Japanese',\n",
    "    'Tesla' : 'American',\n",
    "    'Mercedes' : 'German',\n",
    "}\n",
    "\n",
    "print(my_dict['Toyota'])"
   ]
  },
  {
   "cell_type": "markdown",
   "id": "4b362717-a23b-415a-b3bf-5593024c26fb",
   "metadata": {},
   "source": [
    "This is an example of a keyerror. This error happens when trying to access a value using a key that does not exist in the dictionary. In this example, I try accessing a value for \"Toyota\" which is not a key that exists in this dictionary. To fix this issue, we would need to either add in a key-value pair for Toyota into the dictionary or need to change the key we are accessing to something that is in this dictionary. Dictionaries in python store key-value pairs and we can call values based on their keys. Using 'get' can also help find keys in a dictionary and avoid KeyErrors. "
   ]
  },
  {
   "cell_type": "code",
   "execution_count": 6,
   "id": "697e53d1-dbbe-4d30-a962-78196f38edc3",
   "metadata": {},
   "outputs": [
    {
     "name": "stdout",
     "output_type": "stream",
     "text": [
      "dictionary before deleting {1: 1, 2: 4, 3: 9, 4: 16, 5: 25}\n"
     ]
    },
    {
     "ename": "NameError",
     "evalue": "name 'new_dict' is not defined",
     "output_type": "error",
     "traceback": [
      "\u001b[0;31m---------------------------------------------------------------------------\u001b[0m",
      "\u001b[0;31mNameError\u001b[0m                                 Traceback (most recent call last)",
      "\u001b[0;32m<ipython-input-6-d19fbeb43d3f>\u001b[0m in \u001b[0;36m<module>\u001b[0;34m\u001b[0m\n\u001b[1;32m      6\u001b[0m \u001b[0;34m\u001b[0m\u001b[0m\n\u001b[1;32m      7\u001b[0m \u001b[0;32mdel\u001b[0m \u001b[0mnew_dict\u001b[0m\u001b[0;34m\u001b[0m\u001b[0;34m\u001b[0m\u001b[0m\n\u001b[0;32m----> 8\u001b[0;31m \u001b[0mprint\u001b[0m\u001b[0;34m(\u001b[0m\u001b[0mnew_dict\u001b[0m\u001b[0;34m)\u001b[0m\u001b[0;34m\u001b[0m\u001b[0;34m\u001b[0m\u001b[0m\n\u001b[0m",
      "\u001b[0;31mNameError\u001b[0m: name 'new_dict' is not defined"
     ]
    }
   ],
   "source": [
    "# Example 2: NameError\n",
    "\n",
    "new_dict = {1: 1, 2: 4, 3: 9, 4: 16, 5: 25}\n",
    "\n",
    "print('dictionary before deleting', new_dict)\n",
    "\n",
    "del new_dict\n",
    "print(new_dict)"
   ]
  },
  {
   "cell_type": "markdown",
   "id": "613062d7-4ef1-4ec7-a01e-6640739f4c4b",
   "metadata": {},
   "source": [
    "This is an example of NameError. This error happens when trying to access a variable that has not been created/defined before. In this example, I try printing out 'new_dict'. Although I did define it before, I will get a NameError because I am trying to access the dictionary after I already deleted it. If I remove the 'del new_dict' code, the error will disappear. When dealing with this error, it is best to make sure that the variable has been defined and not deleted. Sometimes the error will happen do to a typo when trying to access that variable as well. "
   ]
  },
  {
   "cell_type": "code",
   "execution_count": 7,
   "id": "ac179581-7da8-45b7-b549-aee2f284bc0c",
   "metadata": {},
   "outputs": [
    {
     "ename": "SyntaxError",
     "evalue": "invalid syntax (<ipython-input-7-f48e5ed9d0c4>, line 3)",
     "output_type": "error",
     "traceback": [
      "\u001b[0;36m  File \u001b[0;32m\"<ipython-input-7-f48e5ed9d0c4>\"\u001b[0;36m, line \u001b[0;32m3\u001b[0m\n\u001b[0;31m    dict1 = {1; 1, 2; 4, 3; 9, 4; 16, 5; 25}\u001b[0m\n\u001b[0m              ^\u001b[0m\n\u001b[0;31mSyntaxError\u001b[0m\u001b[0;31m:\u001b[0m invalid syntax\n"
     ]
    }
   ],
   "source": [
    "# Example 3: SyntaxError \n",
    "\n",
    "dict1 = {1; 1, 2; 4, 3; 9, 4; 16, 5; 25}"
   ]
  },
  {
   "cell_type": "markdown",
   "id": "2994b996-3c79-4b43-866f-3b14f672de12",
   "metadata": {},
   "source": [
    "This is an example of a SyntaxError. This is the most common type of error in python. This error happens when the code is not written using the proper syntax and therefore unreadable. The code will not be able to run it is written in the proper format. In this example, I try creating a dictionary using key-value pairs but use a semi-colon instead of a colon to separate the key-value pairs. This leads to a syntax error because the proper way to create a dictionary would be to use a colon \"1: 1\" instead of \"1; 1\". To fix this SyntaxError, I would need to change the semi-colon to a colon. In other cases, to get rid of the SyntaxError the change would depend on what the proper syntax format is for the code being written."
   ]
  },
  {
   "cell_type": "markdown",
   "id": "7f9fe810-8252-43ee-9b45-130fb2e5f6ca",
   "metadata": {
    "tags": []
   },
   "source": [
    "# W1-HW4 \n",
    "\n",
    "Print only the key and only the value of the dictionary in the below `for` loop.\n"
   ]
  },
  {
   "cell_type": "code",
   "execution_count": 8,
   "id": "3ef9a517-2096-4ee4-97c6-491fa3d81b29",
   "metadata": {},
   "outputs": [
    {
     "name": "stdout",
     "output_type": "stream",
     "text": [
      "ratatouille\n",
      "value: ['eggplant', 'tomato', 'zucchini', 'onion', 'olive oil', 'garlic']\n",
      "homemade pasta\n",
      "value: ['semolina flour', 'olive oil', 'sea salt']\n"
     ]
    }
   ],
   "source": [
    "recipe_dict = {} \n",
    "recipe_dict['ratatouille'] = ['eggplant', 'tomato', 'zucchini', 'onion', 'olive oil', 'garlic']\n",
    "recipe_dict['homemade pasta'] = ['semolina flour', 'olive oil', 'sea salt']\n",
    "for key in recipe_dict.keys(): \n",
    "    print(key)\n",
    "    print('value: {}'.format(recipe_dict.get(key)))\n",
    "#Here I added in a line that will print the values for each specific key in the dictionary. \n",
    "#The 'get' code is useful for finding the values for each key."
   ]
  },
  {
   "cell_type": "code",
   "execution_count": 9,
   "id": "85c29510-19e7-4765-b3ff-0f9c544f3f9d",
   "metadata": {},
   "outputs": [
    {
     "name": "stdout",
     "output_type": "stream",
     "text": [
      "keys: dict_keys(['ratatouille', 'homemade pasta'])\n",
      "values: dict_values([['eggplant', 'tomato', 'zucchini', 'onion', 'olive oil', 'garlic'], ['semolina flour', 'olive oil', 'sea salt']])\n"
     ]
    }
   ],
   "source": [
    "#Another way to access the keys and values in the entire dictionary would be by using the following method:\n",
    "print('keys: {}'.format(recipe_dict.keys()))\n",
    "print('values: {}'.format(recipe_dict.values()))"
   ]
  },
  {
   "cell_type": "code",
   "execution_count": 10,
   "id": "85ef12af-17b5-4dda-aebb-1c5e24b3e6c3",
   "metadata": {},
   "outputs": [
    {
     "name": "stdout",
     "output_type": "stream",
     "text": [
      "key: ratatouille\n",
      "value: ['eggplant', 'tomato', 'zucchini', 'onion', 'olive oil', 'garlic']\n",
      "key: homemade pasta\n",
      "value: ['semolina flour', 'olive oil', 'sea salt']\n"
     ]
    }
   ],
   "source": [
    "#We can also use 'items()' to access the keys and values in the dictionary\n",
    "for key, value in recipe_dict.items():\n",
    "    print(\"key:\", key)\n",
    "    print(\"value:\", value)"
   ]
  },
  {
   "cell_type": "code",
   "execution_count": 11,
   "id": "0ed19082-5029-4346-b6d3-cc37b50d7389",
   "metadata": {},
   "outputs": [
    {
     "name": "stdout",
     "output_type": "stream",
     "text": [
      "key: homemade pasta,\n",
      " value: ['semolina flour', 'olive oil', 'sea salt']\n"
     ]
    }
   ],
   "source": [
    "#We can also use 'get' as shown below:\n",
    "print('key: {},\\n value: {}'.format((key), recipe_dict.get('homemade pasta')))"
   ]
  },
  {
   "cell_type": "markdown",
   "id": "d3925da8-8bbe-4ae5-8096-ede3c68d7d1c",
   "metadata": {},
   "source": [
    "# W2-HW5\n",
    "\n",
    "get the squares of odd numbers in the given list.\n",
    "\n",
    "my_numbers = [1,3,5,7,9,12,19,21]\n",
    "\n",
    "steps in the algorithm:\n",
    "1. start for loop\n",
    "2. calculate the square of the numbers and print that as an output when the numbers are odd numbers "
   ]
  },
  {
   "cell_type": "code",
   "execution_count": 32,
   "id": "8fc272b8-3400-4816-82af-76ae2b0ade27",
   "metadata": {},
   "outputs": [
    {
     "name": "stdout",
     "output_type": "stream",
     "text": [
      "---------------------------------------------\n",
      "Original Numbers: [1, 3, 5, 7, 9, 12, 19, 21]\n",
      "Squared Numbers: [1, 9, 25, 49, 81, 361, 441]\n",
      "---------------------------------------------\n"
     ]
    }
   ],
   "source": [
    "print(\"---------------------------------------------\")\n",
    "#original dictionary\n",
    "my_numbers = [1, 3, 5, 7, 9, 12, 19, 21]\n",
    "#empty variable to store the squared numbers\n",
    "square = []\n",
    "#'for' loop created below first checks to see if a number is odd or even. If odd, the loop will then square it. \n",
    "for item in my_numbers:\n",
    "    if item % 2 != 0:\n",
    "        square.append(item**2)\n",
    "print('Original Numbers: {}\\nSquared Numbers: {}'.format(my_numbers, square))\n",
    "print(\"---------------------------------------------\")"
   ]
  },
  {
   "cell_type": "markdown",
   "id": "potential-california",
   "metadata": {},
   "source": [
    "# W2-HW6: find the dinucleotides\n",
    "\n",
    "Write a function named \"count_dinucleotides\", which will take dna and pair as its two arguments, i.e., count_dinucleotides(dna,pair)\n",
    "\n",
    "The output should be the count of how many of the given dinucleotides are found in the dna string.\n",
    "\n",
    "Example: If the DNA sequence is 'ACTGCTATCCATT' and the pair is 'AT' the output should be 2. "
   ]
  },
  {
   "cell_type": "code",
   "execution_count": 51,
   "id": "bae037a9-a504-449d-a6b3-49aa2ef8c949",
   "metadata": {},
   "outputs": [
    {
     "name": "stdout",
     "output_type": "stream",
     "text": [
      "2\n"
     ]
    }
   ],
   "source": [
    "#define the dna and pair variables\n",
    "dna= \"ACTGCTATCCATT\" \n",
    "pair= \"AT\"\n",
    "\n",
    "#create function for 'count_dinucleotides' that will return the count for the pair defined\n",
    "def count_dinucleotides(dna, pair):\n",
    "    return dna.count(pair)\n",
    "\n",
    "print(count_dinucleotides(dna,pair))"
   ]
  },
  {
   "cell_type": "code",
   "execution_count": 50,
   "id": "6fc61ed3-98e1-4aaf-b2ae-d46f0f49d291",
   "metadata": {},
   "outputs": [
    {
     "name": "stdout",
     "output_type": "stream",
     "text": [
      "2\n"
     ]
    }
   ],
   "source": [
    "#Another example\n",
    "dna= \"ACTGCTATCCATT\" \n",
    "pair= \"CT\"\n",
    "\n",
    "def count_dinucleotides(dna, pair):\n",
    "    return dna.count(pair)\n",
    "\n",
    "print(count_dinucleotides(dna,pair))"
   ]
  },
  {
   "cell_type": "markdown",
   "id": "younger-bronze",
   "metadata": {},
   "source": [
    "# W2-HW7: convert codons to aminoacids\n",
    "\n",
    "Write a function called codon_to_aa() that takes in a single three-base-pair string and returns \n",
    "a one-character string with the corresponding amino acid code.\n",
    "\n",
    "You may need to define all 64 possibilities, so be careful not to make any typos! \n",
    "\n",
    "Here is a hint in case you want to use it: \n",
    "\n",
    "    dict_aa = {'ATA':'I', 'ATC':'I', 'ATT':'I', 'ATG':'M',\n",
    "        'ACA':'T', 'ACC':'T', 'ACG':'T', 'ACT':'T',\n",
    "        'AAC':'N', 'AAT':'N', 'AAA':'K', 'AAG':'K',\n",
    "        'AGC':'S', 'AGT':'S', 'AGA':'R', 'AGG':'R',                \n",
    "        'CTA':'L', 'CTC':'L', 'CTG':'L', 'CTT':'L',\n",
    "        'CCA':'P', 'CCC':'P', 'CCG':'P', 'CCT':'P',\n",
    "        'CAC':'H', 'CAT':'H', 'CAA':'Q', 'CAG':'Q',\n",
    "        'CGA':'R', 'CGC':'R', 'CGG':'R', 'CGT':'R',\n",
    "        'GTA':'V', 'GTC':'V', 'GTG':'V', 'GTT':'V',\n",
    "        'GCA':'A', 'GCC':'A', 'GCG':'A', 'GCT':'A',\n",
    "        'GAC':'D', 'GAT':'D', 'GAA':'E', 'GAG':'E',\n",
    "        'GGA':'G', 'GGC':'G', 'GGG':'G', 'GGT':'G',\n",
    "        'TCA':'S', 'TCC':'S', 'TCG':'S', 'TCT':'S',\n",
    "        'TTC':'F', 'TTT':'F', 'TTA':'L', 'TTG':'L',\n",
    "        'TAC':'Y', 'TAT':'Y', 'TAA':'_', 'TAG':'_',\n",
    "        'TGC':'C', 'TGT':'C', 'TGA':'_', 'TGG':'W'}\n",
    "\n",
    "If the input is not a valid three-base-pair DNA string, the function should return \"X\" to signify “unknown.” \n",
    "\n",
    "Test your function with a few calls like \n",
    "        \n",
    "        print(codon_to_aa(\"TCC\")), \n",
    "        print(codon_to_aa(\"GAA\")), \n",
    "        and print(codon_to_aa(\"BBB\")).\n"
   ]
  },
  {
   "cell_type": "code",
   "execution_count": 56,
   "id": "198d91eb-1378-4e7f-90af-7022409f527b",
   "metadata": {},
   "outputs": [],
   "source": [
    "#define the function 'codon_to_aa' that takes in the threebasepair input and will output the amino acid code using the dict_aa dictionary\n",
    "#if the threebasepair is not in the dictionary, it will output \"X\"\n",
    "def codon_to_aa(threebasepair):\n",
    "    dict_aa = {'ATA':'I', 'ATC':'I', 'ATT':'I', 'ATG':'M',\n",
    "        'ACA':'T', 'ACC':'T', 'ACG':'T', 'ACT':'T',\n",
    "        'AAC':'N', 'AAT':'N', 'AAA':'K', 'AAG':'K',\n",
    "        'AGC':'S', 'AGT':'S', 'AGA':'R', 'AGG':'R',                \n",
    "        'CTA':'L', 'CTC':'L', 'CTG':'L', 'CTT':'L',\n",
    "        'CCA':'P', 'CCC':'P', 'CCG':'P', 'CCT':'P',\n",
    "        'CAC':'H', 'CAT':'H', 'CAA':'Q', 'CAG':'Q',\n",
    "        'CGA':'R', 'CGC':'R', 'CGG':'R', 'CGT':'R',\n",
    "        'GTA':'V', 'GTC':'V', 'GTG':'V', 'GTT':'V',\n",
    "        'GCA':'A', 'GCC':'A', 'GCG':'A', 'GCT':'A',\n",
    "        'GAC':'D', 'GAT':'D', 'GAA':'E', 'GAG':'E',\n",
    "        'GGA':'G', 'GGC':'G', 'GGG':'G', 'GGT':'G',\n",
    "        'TCA':'S', 'TCC':'S', 'TCG':'S', 'TCT':'S',\n",
    "        'TTC':'F', 'TTT':'F', 'TTA':'L', 'TTG':'L',\n",
    "        'TAC':'Y', 'TAT':'Y', 'TAA':'_', 'TAG':'_',\n",
    "        'TGC':'C', 'TGT':'C', 'TGA':'_', 'TGG':'W'}\n",
    "    return dict_aa.get(threebasepair, \"X\")"
   ]
  },
  {
   "cell_type": "code",
   "execution_count": 57,
   "id": "b89e0704-0d58-4a27-8092-2a440859fd19",
   "metadata": {},
   "outputs": [
    {
     "name": "stdout",
     "output_type": "stream",
     "text": [
      "S\n"
     ]
    }
   ],
   "source": [
    "print(codon_to_aa(\"TCC\"))"
   ]
  },
  {
   "cell_type": "code",
   "execution_count": 58,
   "id": "125c30ef-8a53-4a75-ae23-fdb8ea62ce11",
   "metadata": {},
   "outputs": [
    {
     "name": "stdout",
     "output_type": "stream",
     "text": [
      "E\n"
     ]
    }
   ],
   "source": [
    "print(codon_to_aa(\"GAA\"))"
   ]
  },
  {
   "cell_type": "code",
   "execution_count": 60,
   "id": "9d898991-75c8-497f-a726-7a0f0ff8fe2e",
   "metadata": {},
   "outputs": [
    {
     "name": "stdout",
     "output_type": "stream",
     "text": [
      "X\n"
     ]
    }
   ],
   "source": [
    "#The output will be 'X' because the threebasepair is not in the dictionary \n",
    "print(codon_to_aa(\"BBB\"))"
   ]
  },
  {
   "cell_type": "markdown",
   "id": "997c33bc-b114-4271-84d8-cdb99dbab0e8",
   "metadata": {},
   "source": [
    "# W2-HW8: get substrings from a given string\n",
    "\n",
    "Write a program with a function called get_windows() that takes three parameters: \n",
    "\n",
    "    the sequence to extract windows from (string), \n",
    "    the window size (int), \n",
    "    and the step size (int). \n",
    "    \n",
    "The function should return a list of strings, one per window, with no “partial windows” \n",
    "if the last window would run off the end of the sequence.\n",
    "\n",
    "Then test your function for the following cases:\n",
    "\n",
    "    get_windows('AAACTGTCTCTA', 3, 2)\n",
    "    get_windows('AC', 4, 2)\n",
    "    get_windows('TCTCTATCGGACG', 2, 3)\n"
   ]
  },
  {
   "cell_type": "code",
   "execution_count": 6,
   "id": "9ee4f524-4d5f-4f28-ab8e-e9febe9417ad",
   "metadata": {},
   "outputs": [
    {
     "data": {
      "text/plain": [
       "['AAA', 'ACT', 'TGT', 'TCT', 'TCT']"
      ]
     },
     "execution_count": 6,
     "metadata": {},
     "output_type": "execute_result"
    }
   ],
   "source": [
    "def get_windows(seq, window_size, step_size):\n",
    "    window= []\n",
    "    count = 0 \n",
    "    for i in range(len(seq)):\n",
    "        if count + window_size <= len(seq):\n",
    "            window.append(seq[count:count+window_size])\n",
    "            count += step_size\n",
    "    return window\n",
    "        \n",
    "get_windows('AAACTGTCTCTA', 3, 2)"
   ]
  },
  {
   "cell_type": "code",
   "execution_count": 7,
   "id": "060ea95a-976d-4599-82ae-37a31abec635",
   "metadata": {},
   "outputs": [
    {
     "data": {
      "text/plain": [
       "[]"
      ]
     },
     "execution_count": 7,
     "metadata": {},
     "output_type": "execute_result"
    }
   ],
   "source": [
    "get_windows('AC', 4, 2)"
   ]
  },
  {
   "cell_type": "code",
   "execution_count": 8,
   "id": "e4ab5485-629d-4592-9f66-61656a149e9b",
   "metadata": {},
   "outputs": [
    {
     "data": {
      "text/plain": [
       "['TC', 'CT', 'TC', 'GA']"
      ]
     },
     "execution_count": 8,
     "metadata": {},
     "output_type": "execute_result"
    }
   ],
   "source": [
    "get_windows('TCTCTATCGGACG', 2, 3)"
   ]
  }
 ],
 "metadata": {
  "kernelspec": {
   "display_name": "Python 3",
   "language": "python",
   "name": "python3"
  },
  "language_info": {
   "codemirror_mode": {
    "name": "ipython",
    "version": 3
   },
   "file_extension": ".py",
   "mimetype": "text/x-python",
   "name": "python",
   "nbconvert_exporter": "python",
   "pygments_lexer": "ipython3",
   "version": "3.6.8"
  }
 },
 "nbformat": 4,
 "nbformat_minor": 5
}
