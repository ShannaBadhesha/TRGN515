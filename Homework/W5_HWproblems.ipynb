{
 "cells": [
  {
   "cell_type": "markdown",
   "id": "d7ca67d9-c65f-4533-b606-84764947f77e",
   "metadata": {},
   "source": [
    "## Using the GFF3 file that is well annotated, do:\n"
   ]
  },
  {
   "cell_type": "markdown",
   "id": "22e0505a-9bc1-469a-ba15-caeca81d1aca",
   "metadata": {},
   "source": [
    "#### W5-H17: Visualize the data as much as you can. How many genes/CDS/exon are listed for ENSEMBL and other datasets?\n"
   ]
  },
  {
   "cell_type": "code",
   "execution_count": 75,
   "id": "51d38d89-3bc9-468b-a9e1-f80880fb3032",
   "metadata": {},
   "outputs": [],
   "source": [
    "import pandas as pd\n",
    "import matplotlib.pyplot as plt\n",
    "pd.__version__ \n",
    "col_names = ['seqid', 'source', 'type', 'start', 'end', 'score', 'strand', 'phase', 'attributes'] \n",
    "df = pd.read_csv('../datasets/Homo_sapiens.GRCh38.85.gff3.gz', compression='gzip',\n",
    "                         sep='\\t', comment='#', low_memory=False,\n",
    "                         header=None, names=col_names)"
   ]
  },
  {
   "cell_type": "code",
   "execution_count": 76,
   "id": "bf62d608-38e4-44e3-81b6-aee9ea3f6cbc",
   "metadata": {},
   "outputs": [
    {
     "data": {
      "text/html": [
       "<div>\n",
       "<style scoped>\n",
       "    .dataframe tbody tr th:only-of-type {\n",
       "        vertical-align: middle;\n",
       "    }\n",
       "\n",
       "    .dataframe tbody tr th {\n",
       "        vertical-align: top;\n",
       "    }\n",
       "\n",
       "    .dataframe thead th {\n",
       "        text-align: right;\n",
       "    }\n",
       "</style>\n",
       "<table border=\"1\" class=\"dataframe\">\n",
       "  <thead>\n",
       "    <tr style=\"text-align: right;\">\n",
       "      <th></th>\n",
       "      <th>seqid</th>\n",
       "      <th>source</th>\n",
       "      <th>type</th>\n",
       "      <th>start</th>\n",
       "      <th>end</th>\n",
       "      <th>score</th>\n",
       "      <th>strand</th>\n",
       "      <th>phase</th>\n",
       "      <th>attributes</th>\n",
       "    </tr>\n",
       "  </thead>\n",
       "  <tbody>\n",
       "    <tr>\n",
       "      <th>0</th>\n",
       "      <td>1</td>\n",
       "      <td>GRCh38</td>\n",
       "      <td>chromosome</td>\n",
       "      <td>1</td>\n",
       "      <td>248956422</td>\n",
       "      <td>.</td>\n",
       "      <td>.</td>\n",
       "      <td>.</td>\n",
       "      <td>ID=chromosome:1;Alias=CM000663.2,chr1,NC_00000...</td>\n",
       "    </tr>\n",
       "    <tr>\n",
       "      <th>1</th>\n",
       "      <td>1</td>\n",
       "      <td>.</td>\n",
       "      <td>biological_region</td>\n",
       "      <td>10469</td>\n",
       "      <td>11240</td>\n",
       "      <td>1.3e+03</td>\n",
       "      <td>.</td>\n",
       "      <td>.</td>\n",
       "      <td>external_name=oe %3D 0.79;logic_name=cpg</td>\n",
       "    </tr>\n",
       "    <tr>\n",
       "      <th>2</th>\n",
       "      <td>1</td>\n",
       "      <td>.</td>\n",
       "      <td>biological_region</td>\n",
       "      <td>10650</td>\n",
       "      <td>10657</td>\n",
       "      <td>0.999</td>\n",
       "      <td>+</td>\n",
       "      <td>.</td>\n",
       "      <td>logic_name=eponine</td>\n",
       "    </tr>\n",
       "    <tr>\n",
       "      <th>3</th>\n",
       "      <td>1</td>\n",
       "      <td>.</td>\n",
       "      <td>biological_region</td>\n",
       "      <td>10655</td>\n",
       "      <td>10657</td>\n",
       "      <td>0.999</td>\n",
       "      <td>-</td>\n",
       "      <td>.</td>\n",
       "      <td>logic_name=eponine</td>\n",
       "    </tr>\n",
       "    <tr>\n",
       "      <th>4</th>\n",
       "      <td>1</td>\n",
       "      <td>.</td>\n",
       "      <td>biological_region</td>\n",
       "      <td>10678</td>\n",
       "      <td>10687</td>\n",
       "      <td>0.999</td>\n",
       "      <td>+</td>\n",
       "      <td>.</td>\n",
       "      <td>logic_name=eponine</td>\n",
       "    </tr>\n",
       "  </tbody>\n",
       "</table>\n",
       "</div>"
      ],
      "text/plain": [
       "  seqid  source               type  start        end    score strand phase  \\\n",
       "0     1  GRCh38         chromosome      1  248956422        .      .     .   \n",
       "1     1       .  biological_region  10469      11240  1.3e+03      .     .   \n",
       "2     1       .  biological_region  10650      10657    0.999      +     .   \n",
       "3     1       .  biological_region  10655      10657    0.999      -     .   \n",
       "4     1       .  biological_region  10678      10687    0.999      +     .   \n",
       "\n",
       "                                          attributes  \n",
       "0  ID=chromosome:1;Alias=CM000663.2,chr1,NC_00000...  \n",
       "1           external_name=oe %3D 0.79;logic_name=cpg  \n",
       "2                                 logic_name=eponine  \n",
       "3                                 logic_name=eponine  \n",
       "4                                 logic_name=eponine  "
      ]
     },
     "execution_count": 76,
     "metadata": {},
     "output_type": "execute_result"
    }
   ],
   "source": [
    "df.head(5)"
   ]
  },
  {
   "cell_type": "code",
   "execution_count": 77,
   "id": "0c8a83e6-ba3e-4b41-9b76-0f990644f693",
   "metadata": {},
   "outputs": [
    {
     "data": {
      "text/plain": [
       "array(['chromosome', 'biological_region', 'gene', 'processed_transcript',\n",
       "       'exon', 'pseudogenic_transcript', 'pseudogene', 'miRNA_gene',\n",
       "       'miRNA', 'lincRNA_gene', 'lincRNA', 'transcript', 'CDS',\n",
       "       'processed_pseudogene', 'snRNA_gene', 'snRNA', 'five_prime_UTR',\n",
       "       'three_prime_UTR', 'aberrant_processed_transcript',\n",
       "       'NMD_transcript_variant', 'RNA', 'snoRNA_gene', 'snoRNA',\n",
       "       'rRNA_gene', 'rRNA', 'V_gene_segment', 'C_gene_segment',\n",
       "       'J_gene_segment', 'VD_gene_segment', 'supercontig', 'mt_gene'],\n",
       "      dtype=object)"
      ]
     },
     "execution_count": 77,
     "metadata": {},
     "output_type": "execute_result"
    }
   ],
   "source": [
    "df.type.unique()"
   ]
  },
  {
   "cell_type": "code",
   "execution_count": 78,
   "id": "dff1c314-d894-4314-b930-0673d9593b9d",
   "metadata": {},
   "outputs": [
    {
     "data": {
      "text/plain": [
       "exon                             1182163\n",
       "CDS                               704604\n",
       "biological_region                 182510\n",
       "five_prime_UTR                    142387\n",
       "three_prime_UTR                   133938\n",
       "transcript                         96412\n",
       "gene                               42485\n",
       "processed_transcript               28228\n",
       "aberrant_processed_transcript      26944\n",
       "NMD_transcript_variant             13761\n",
       "lincRNA                            13247\n",
       "processed_pseudogene               10722\n",
       "lincRNA_gene                        7533\n",
       "pseudogene                          3049\n",
       "RNA                                 2221\n",
       "snRNA                               1909\n",
       "snRNA_gene                          1909\n",
       "miRNA                               1869\n",
       "miRNA_gene                          1567\n",
       "snoRNA                               956\n",
       "snoRNA_gene                          944\n",
       "pseudogenic_transcript               737\n",
       "rRNA_gene                            549\n",
       "rRNA                                 549\n",
       "V_gene_segment                       216\n",
       "supercontig                          169\n",
       "J_gene_segment                       158\n",
       "VD_gene_segment                       37\n",
       "C_gene_segment                        29\n",
       "chromosome                            25\n",
       "mt_gene                               22\n",
       "Name: type, dtype: int64"
      ]
     },
     "execution_count": 78,
     "metadata": {},
     "output_type": "execute_result"
    }
   ],
   "source": [
    "df['type'].value_counts()"
   ]
  },
  {
   "cell_type": "code",
   "execution_count": 79,
   "id": "97eda991-d631-428e-9266-9bcd90a52d8d",
   "metadata": {},
   "outputs": [],
   "source": [
    "gdf = df[df.type == 'gene']\n",
    "cdf = df[df.type == 'CDS']\n",
    "edf = df[df.type == 'exon']"
   ]
  },
  {
   "cell_type": "code",
   "execution_count": 80,
   "id": "112e8e29-bd6f-41da-9800-c790368dc396",
   "metadata": {},
   "outputs": [
    {
     "data": {
      "text/plain": [
       "42485"
      ]
     },
     "execution_count": 80,
     "metadata": {},
     "output_type": "execute_result"
    }
   ],
   "source": [
    "len(gdf)"
   ]
  },
  {
   "cell_type": "code",
   "execution_count": 81,
   "id": "79afa90e-91fe-4e3f-b3b1-09e9baf6d85a",
   "metadata": {},
   "outputs": [
    {
     "data": {
      "text/plain": [
       "704604"
      ]
     },
     "execution_count": 81,
     "metadata": {},
     "output_type": "execute_result"
    }
   ],
   "source": [
    "len(cdf)"
   ]
  },
  {
   "cell_type": "code",
   "execution_count": 82,
   "id": "6e1ae170-74c9-42a4-a1ac-13639f5bc6c8",
   "metadata": {},
   "outputs": [
    {
     "data": {
      "text/plain": [
       "1182163"
      ]
     },
     "execution_count": 82,
     "metadata": {},
     "output_type": "execute_result"
    }
   ],
   "source": [
    "len(edf)"
   ]
  },
  {
   "cell_type": "code",
   "execution_count": 83,
   "id": "ec5c3f01-fb9e-48f7-9de8-08a0ff88e492",
   "metadata": {},
   "outputs": [],
   "source": [
    "row_gdf = gdf.shape[0]\n",
    "row_cdf = cdf.shape[0]\n",
    "row_edf = edf.shape[0]"
   ]
  },
  {
   "cell_type": "code",
   "execution_count": 84,
   "id": "4ee0923c-cecf-4cd4-aa09-6129b9f06a6c",
   "metadata": {},
   "outputs": [
    {
     "data": {
      "image/png": "[encoded data removed]",
      "text/plain": [
       "<Figure size 432x288 with 1 Axes>"
      ]
     },
     "metadata": {
      "needs_background": "light"
     },
     "output_type": "display_data"
    }
   ],
   "source": [
    "labels = ['gdf', 'cdf', 'edf']\n",
    "values = [row_gdf, row_cdf, row_edf]\n",
    "colors = ['blue', 'green', 'red']\n",
    "plt.bar(labels, values, color= colors)\n",
    "plt.title('Number of genes/CDS/exon in all sources')\n",
    "plt.xlabel('Genes/CDS/exon')\n",
    "x_labels = ['Gene', 'CDS', 'Exon']\n",
    "plt.xticks(labels, x_labels)\n",
    "plt.ylabel('Number')\n",
    "plt.ylim(0, max(values) + 10000);"
   ]
  },
  {
   "cell_type": "code",
   "execution_count": 85,
   "id": "322745ff-67b1-4470-ad0a-0c4a1839cdb7",
   "metadata": {},
   "outputs": [
    {
     "data": {
      "text/plain": [
       "array(['GRCh38', '.', 'havana', 'mirbase', 'ensembl_havana', 'ensembl',\n",
       "       'insdc'], dtype=object)"
      ]
     },
     "execution_count": 85,
     "metadata": {},
     "output_type": "execute_result"
    }
   ],
   "source": [
    "df.source.unique()"
   ]
  },
  {
   "cell_type": "code",
   "execution_count": 86,
   "id": "fd8ae789-ffcc-4b14-8023-032ca5258752",
   "metadata": {},
   "outputs": [
    {
     "data": {
      "text/plain": [
       "array(['chromosome', 'supercontig'], dtype=object)"
      ]
     },
     "execution_count": 86,
     "metadata": {},
     "output_type": "execute_result"
    }
   ],
   "source": [
    "grch38 = df[df.source == 'GRCh38']\n",
    "grch38.type.unique()\n",
    "#no gene,CDS,exon in this source"
   ]
  },
  {
   "cell_type": "code",
   "execution_count": 87,
   "id": "9bb9f950-cb05-446f-b425-18f2ed468ca9",
   "metadata": {},
   "outputs": [
    {
     "data": {
      "text/plain": [
       "array(['biological_region'], dtype=object)"
      ]
     },
     "execution_count": 87,
     "metadata": {},
     "output_type": "execute_result"
    }
   ],
   "source": [
    "dot = df[df.source == '.']\n",
    "dot.type.unique()\n",
    "#no gene,CDS,exon in this source"
   ]
  },
  {
   "cell_type": "code",
   "execution_count": 88,
   "id": "ea46d959-b259-4a02-94dc-c782e8fbbee2",
   "metadata": {},
   "outputs": [
    {
     "data": {
      "text/plain": [
       "array(['gene', 'processed_transcript', 'exon', 'pseudogenic_transcript',\n",
       "       'pseudogene', 'lincRNA_gene', 'lincRNA', 'processed_pseudogene',\n",
       "       'transcript', 'aberrant_processed_transcript', 'five_prime_UTR',\n",
       "       'CDS', 'three_prime_UTR', 'NMD_transcript_variant',\n",
       "       'V_gene_segment', 'J_gene_segment', 'C_gene_segment',\n",
       "       'VD_gene_segment', 'snRNA_gene', 'snRNA'], dtype=object)"
      ]
     },
     "execution_count": 88,
     "metadata": {},
     "output_type": "execute_result"
    }
   ],
   "source": [
    "havana = df[df.source == 'havana']\n",
    "havana.type.unique()"
   ]
  },
  {
   "cell_type": "code",
   "execution_count": 89,
   "id": "50ab17a5-3f6c-4a4d-9e1e-0d1258e8dd65",
   "metadata": {},
   "outputs": [
    {
     "data": {
      "text/plain": [
       "23073"
      ]
     },
     "execution_count": 89,
     "metadata": {},
     "output_type": "execute_result"
    }
   ],
   "source": [
    "havana_g = havana[havana.type == 'gene']\n",
    "len(havana_g)"
   ]
  },
  {
   "cell_type": "code",
   "execution_count": 90,
   "id": "ba8b528e-33f9-48ad-9e70-8a8243864452",
   "metadata": {},
   "outputs": [
    {
     "data": {
      "text/plain": [
       "368091"
      ]
     },
     "execution_count": 90,
     "metadata": {},
     "output_type": "execute_result"
    }
   ],
   "source": [
    "havana_c = havana[havana.type == 'CDS']\n",
    "len(havana_c)"
   ]
  },
  {
   "cell_type": "code",
   "execution_count": 91,
   "id": "eb87b627-b17b-4c79-93c7-7768edf4e4ca",
   "metadata": {},
   "outputs": [
    {
     "data": {
      "text/plain": [
       "807505"
      ]
     },
     "execution_count": 91,
     "metadata": {},
     "output_type": "execute_result"
    }
   ],
   "source": [
    "havana_e = havana[havana.type == 'exon']\n",
    "len(havana_e)"
   ]
  },
  {
   "cell_type": "code",
   "execution_count": 92,
   "id": "c7ee9c17-8ca6-4d4e-a1b5-ab5c11e8de9f",
   "metadata": {},
   "outputs": [
    {
     "data": {
      "text/plain": [
       "array(['miRNA_gene', 'miRNA', 'exon'], dtype=object)"
      ]
     },
     "execution_count": 92,
     "metadata": {},
     "output_type": "execute_result"
    }
   ],
   "source": [
    "mirbase = df[df.source == 'mirbase']\n",
    "mirbase.type.unique()"
   ]
  },
  {
   "cell_type": "code",
   "execution_count": 93,
   "id": "884c902d-dc26-4a2d-99c6-d13440d29db2",
   "metadata": {},
   "outputs": [
    {
     "data": {
      "text/plain": [
       "1567"
      ]
     },
     "execution_count": 93,
     "metadata": {},
     "output_type": "execute_result"
    }
   ],
   "source": [
    "mirbase_e = mirbase[mirbase.type == 'exon']\n",
    "len(mirbase_e)"
   ]
  },
  {
   "cell_type": "code",
   "execution_count": 94,
   "id": "6cbaa5df-79aa-4f2b-8ae6-afa3bc7518a5",
   "metadata": {},
   "outputs": [
    {
     "data": {
      "text/plain": [
       "array(['lincRNA_gene', 'lincRNA', 'miRNA', 'gene', 'transcript', 'exon',\n",
       "       'CDS', 'processed_transcript', 'aberrant_processed_transcript',\n",
       "       'three_prime_UTR', 'five_prime_UTR', 'NMD_transcript_variant',\n",
       "       'pseudogene', 'processed_pseudogene', 'pseudogenic_transcript',\n",
       "       'V_gene_segment', 'C_gene_segment', 'snoRNA_gene', 'snoRNA'],\n",
       "      dtype=object)"
      ]
     },
     "execution_count": 94,
     "metadata": {},
     "output_type": "execute_result"
    }
   ],
   "source": [
    "ensembl_havana = df[df.source == 'ensembl_havana']\n",
    "ensembl_havana.type.unique()"
   ]
  },
  {
   "cell_type": "code",
   "execution_count": 95,
   "id": "fd3a5e19-9eb0-4587-a680-95ba9e1df583",
   "metadata": {},
   "outputs": [
    {
     "data": {
      "text/plain": [
       "268822"
      ]
     },
     "execution_count": 95,
     "metadata": {},
     "output_type": "execute_result"
    }
   ],
   "source": [
    "ensembl_havana_e = ensembl_havana[ensembl_havana.type == 'exon']\n",
    "len(ensembl_havana_e)"
   ]
  },
  {
   "cell_type": "code",
   "execution_count": 96,
   "id": "cc0d49ba-c036-4256-a017-c6b7b5cb3461",
   "metadata": {},
   "outputs": [
    {
     "data": {
      "text/plain": [
       "248313"
      ]
     },
     "execution_count": 96,
     "metadata": {},
     "output_type": "execute_result"
    }
   ],
   "source": [
    "ensembl_havana_c = ensembl_havana[ensembl_havana.type == 'CDS']\n",
    "len(ensembl_havana_c)"
   ]
  },
  {
   "cell_type": "code",
   "execution_count": 97,
   "id": "7103e317-3cf9-4c0f-b83b-05debcb526a4",
   "metadata": {},
   "outputs": [
    {
     "data": {
      "text/plain": [
       "19064"
      ]
     },
     "execution_count": 97,
     "metadata": {},
     "output_type": "execute_result"
    }
   ],
   "source": [
    "ensembl_havana_g = ensembl_havana[ensembl_havana.type == 'gene']\n",
    "len(ensembl_havana_g)"
   ]
  },
  {
   "cell_type": "code",
   "execution_count": 98,
   "id": "a503ef0d-cb73-4853-9f08-13f7e941b0c5",
   "metadata": {},
   "outputs": [
    {
     "data": {
      "text/plain": [
       "array(['exon', 'snRNA_gene', 'snRNA', 'gene', 'transcript',\n",
       "       'five_prime_UTR', 'CDS', 'three_prime_UTR', 'RNA', 'snoRNA_gene',\n",
       "       'snoRNA', 'rRNA_gene', 'rRNA', 'pseudogene', 'lincRNA_gene',\n",
       "       'lincRNA', 'processed_pseudogene'], dtype=object)"
      ]
     },
     "execution_count": 98,
     "metadata": {},
     "output_type": "execute_result"
    }
   ],
   "source": [
    "ensembl = df[df.source == 'ensembl']\n",
    "ensembl.type.unique()"
   ]
  },
  {
   "cell_type": "code",
   "execution_count": 99,
   "id": "d7bd1f49-729e-44de-afe2-4fd19ff16be3",
   "metadata": {},
   "outputs": [
    {
     "data": {
      "text/plain": [
       "104269"
      ]
     },
     "execution_count": 99,
     "metadata": {},
     "output_type": "execute_result"
    }
   ],
   "source": [
    "ensembl_e = ensembl[ensembl.type == 'exon']\n",
    "len(ensembl_e)"
   ]
  },
  {
   "cell_type": "code",
   "execution_count": 100,
   "id": "8056b425-ab44-4110-bfae-41b02f7cebc1",
   "metadata": {},
   "outputs": [
    {
     "data": {
      "text/plain": [
       "88200"
      ]
     },
     "execution_count": 100,
     "metadata": {},
     "output_type": "execute_result"
    }
   ],
   "source": [
    "ensembl_c = ensembl[ensembl.type == 'CDS']\n",
    "len(ensembl_c)"
   ]
  },
  {
   "cell_type": "code",
   "execution_count": 101,
   "id": "321aa0a4-e060-4cbd-a941-7364201f1844",
   "metadata": {},
   "outputs": [
    {
     "data": {
      "text/plain": [
       "333"
      ]
     },
     "execution_count": 101,
     "metadata": {},
     "output_type": "execute_result"
    }
   ],
   "source": [
    "ensembl_g = ensembl[ensembl.type == 'gene']\n",
    "len(ensembl_g)"
   ]
  },
  {
   "cell_type": "code",
   "execution_count": 102,
   "id": "4854c252-e7bd-4c07-99fe-7289ce099085",
   "metadata": {},
   "outputs": [
    {
     "data": {
      "text/plain": [
       "array(['mt_gene', 'transcript', 'gene'], dtype=object)"
      ]
     },
     "execution_count": 102,
     "metadata": {},
     "output_type": "execute_result"
    }
   ],
   "source": [
    "insdc = df[df.source == 'insdc']\n",
    "insdc.type.unique()"
   ]
  },
  {
   "cell_type": "code",
   "execution_count": 103,
   "id": "b0a00a83-6dc0-4608-b181-74d656c26302",
   "metadata": {},
   "outputs": [
    {
     "data": {
      "text/plain": [
       "15"
      ]
     },
     "execution_count": 103,
     "metadata": {},
     "output_type": "execute_result"
    }
   ],
   "source": [
    "insdc_g = insdc[insdc.type == 'gene']\n",
    "len(insdc_g)"
   ]
  },
  {
   "cell_type": "markdown",
   "id": "2f7635e1-d50a-4e43-a185-e8b9481bef2f",
   "metadata": {},
   "source": [
    "#### W5-H18: Plot a histogram of length information for a) entire genome, 2) for each source, i.e., ENSEMBL, Havana, etc. separately (can use subplot)"
   ]
  },
  {
   "cell_type": "code",
   "execution_count": 104,
   "id": "62b5e1af-3cff-4179-a755-dbf0d7ddd1b9",
   "metadata": {},
   "outputs": [
    {
     "data": {
      "text/plain": [
       "array(['GRCh38', '.', 'havana', 'mirbase', 'ensembl_havana', 'ensembl',\n",
       "       'insdc'], dtype=object)"
      ]
     },
     "execution_count": 104,
     "metadata": {},
     "output_type": "execute_result"
    }
   ],
   "source": [
    "df.source.unique()"
   ]
  },
  {
   "cell_type": "code",
   "execution_count": 105,
   "id": "3b00705b-8f4d-463f-890c-ca27b9810447",
   "metadata": {},
   "outputs": [
    {
     "data": {
      "text/html": [
       "<div>\n",
       "<style scoped>\n",
       "    .dataframe tbody tr th:only-of-type {\n",
       "        vertical-align: middle;\n",
       "    }\n",
       "\n",
       "    .dataframe tbody tr th {\n",
       "        vertical-align: top;\n",
       "    }\n",
       "\n",
       "    .dataframe thead th {\n",
       "        text-align: right;\n",
       "    }\n",
       "</style>\n",
       "<table border=\"1\" class=\"dataframe\">\n",
       "  <thead>\n",
       "    <tr style=\"text-align: right;\">\n",
       "      <th></th>\n",
       "      <th>seqid</th>\n",
       "      <th>source</th>\n",
       "      <th>type</th>\n",
       "      <th>start</th>\n",
       "      <th>end</th>\n",
       "      <th>score</th>\n",
       "      <th>strand</th>\n",
       "      <th>phase</th>\n",
       "      <th>attributes</th>\n",
       "    </tr>\n",
       "  </thead>\n",
       "  <tbody>\n",
       "    <tr>\n",
       "      <th>18</th>\n",
       "      <td>1</td>\n",
       "      <td>havana</td>\n",
       "      <td>exon</td>\n",
       "      <td>11869</td>\n",
       "      <td>12227</td>\n",
       "      <td>.</td>\n",
       "      <td>+</td>\n",
       "      <td>.</td>\n",
       "      <td>Parent=transcript:ENST00000456328;Name=ENSE000...</td>\n",
       "    </tr>\n",
       "    <tr>\n",
       "      <th>19</th>\n",
       "      <td>1</td>\n",
       "      <td>havana</td>\n",
       "      <td>exon</td>\n",
       "      <td>12613</td>\n",
       "      <td>12721</td>\n",
       "      <td>.</td>\n",
       "      <td>+</td>\n",
       "      <td>.</td>\n",
       "      <td>Parent=transcript:ENST00000456328;Name=ENSE000...</td>\n",
       "    </tr>\n",
       "    <tr>\n",
       "      <th>20</th>\n",
       "      <td>1</td>\n",
       "      <td>havana</td>\n",
       "      <td>exon</td>\n",
       "      <td>13221</td>\n",
       "      <td>14409</td>\n",
       "      <td>.</td>\n",
       "      <td>+</td>\n",
       "      <td>.</td>\n",
       "      <td>Parent=transcript:ENST00000456328;Name=ENSE000...</td>\n",
       "    </tr>\n",
       "    <tr>\n",
       "      <th>22</th>\n",
       "      <td>1</td>\n",
       "      <td>havana</td>\n",
       "      <td>exon</td>\n",
       "      <td>12010</td>\n",
       "      <td>12057</td>\n",
       "      <td>.</td>\n",
       "      <td>+</td>\n",
       "      <td>.</td>\n",
       "      <td>Parent=transcript:ENST00000450305;Name=ENSE000...</td>\n",
       "    </tr>\n",
       "    <tr>\n",
       "      <th>23</th>\n",
       "      <td>1</td>\n",
       "      <td>havana</td>\n",
       "      <td>exon</td>\n",
       "      <td>12179</td>\n",
       "      <td>12227</td>\n",
       "      <td>.</td>\n",
       "      <td>+</td>\n",
       "      <td>.</td>\n",
       "      <td>Parent=transcript:ENST00000450305;Name=ENSE000...</td>\n",
       "    </tr>\n",
       "  </tbody>\n",
       "</table>\n",
       "</div>"
      ],
      "text/plain": [
       "   seqid  source  type  start    end score strand phase  \\\n",
       "18     1  havana  exon  11869  12227     .      +     .   \n",
       "19     1  havana  exon  12613  12721     .      +     .   \n",
       "20     1  havana  exon  13221  14409     .      +     .   \n",
       "22     1  havana  exon  12010  12057     .      +     .   \n",
       "23     1  havana  exon  12179  12227     .      +     .   \n",
       "\n",
       "                                           attributes  \n",
       "18  Parent=transcript:ENST00000456328;Name=ENSE000...  \n",
       "19  Parent=transcript:ENST00000456328;Name=ENSE000...  \n",
       "20  Parent=transcript:ENST00000456328;Name=ENSE000...  \n",
       "22  Parent=transcript:ENST00000450305;Name=ENSE000...  \n",
       "23  Parent=transcript:ENST00000450305;Name=ENSE000...  "
      ]
     },
     "execution_count": 105,
     "metadata": {},
     "output_type": "execute_result"
    }
   ],
   "source": [
    "#Start by making a database from the original data that only contains the type as exons. \n",
    "edf = df[df.type == 'exon']\n",
    "edf.head(5)"
   ]
  },
  {
   "cell_type": "code",
   "execution_count": 106,
   "id": "5dbe3497-c673-4b22-87b2-6cd90847f26c",
   "metadata": {},
   "outputs": [
    {
     "name": "stderr",
     "output_type": "stream",
     "text": [
      "/usr/local/lib64/python3.6/site-packages/pandas/core/frame.py:4170: SettingWithCopyWarning: \n",
      "A value is trying to be set on a copy of a slice from a DataFrame\n",
      "\n",
      "See the caveats in the documentation: https://pandas.pydata.org/pandas-docs/stable/user_guide/indexing.html#returning-a-view-versus-a-copy\n",
      "  errors=errors,\n"
     ]
    },
    {
     "data": {
      "text/html": [
       "<div>\n",
       "<style scoped>\n",
       "    .dataframe tbody tr th:only-of-type {\n",
       "        vertical-align: middle;\n",
       "    }\n",
       "\n",
       "    .dataframe tbody tr th {\n",
       "        vertical-align: top;\n",
       "    }\n",
       "\n",
       "    .dataframe thead th {\n",
       "        text-align: right;\n",
       "    }\n",
       "</style>\n",
       "<table border=\"1\" class=\"dataframe\">\n",
       "  <thead>\n",
       "    <tr style=\"text-align: right;\">\n",
       "      <th></th>\n",
       "      <th>seqid</th>\n",
       "      <th>source</th>\n",
       "      <th>type</th>\n",
       "      <th>start</th>\n",
       "      <th>end</th>\n",
       "    </tr>\n",
       "  </thead>\n",
       "  <tbody>\n",
       "    <tr>\n",
       "      <th>18</th>\n",
       "      <td>1</td>\n",
       "      <td>havana</td>\n",
       "      <td>exon</td>\n",
       "      <td>11869</td>\n",
       "      <td>12227</td>\n",
       "    </tr>\n",
       "    <tr>\n",
       "      <th>19</th>\n",
       "      <td>1</td>\n",
       "      <td>havana</td>\n",
       "      <td>exon</td>\n",
       "      <td>12613</td>\n",
       "      <td>12721</td>\n",
       "    </tr>\n",
       "    <tr>\n",
       "      <th>20</th>\n",
       "      <td>1</td>\n",
       "      <td>havana</td>\n",
       "      <td>exon</td>\n",
       "      <td>13221</td>\n",
       "      <td>14409</td>\n",
       "    </tr>\n",
       "    <tr>\n",
       "      <th>22</th>\n",
       "      <td>1</td>\n",
       "      <td>havana</td>\n",
       "      <td>exon</td>\n",
       "      <td>12010</td>\n",
       "      <td>12057</td>\n",
       "    </tr>\n",
       "    <tr>\n",
       "      <th>23</th>\n",
       "      <td>1</td>\n",
       "      <td>havana</td>\n",
       "      <td>exon</td>\n",
       "      <td>12179</td>\n",
       "      <td>12227</td>\n",
       "    </tr>\n",
       "  </tbody>\n",
       "</table>\n",
       "</div>"
      ],
      "text/plain": [
       "   seqid  source  type  start    end\n",
       "18     1  havana  exon  11869  12227\n",
       "19     1  havana  exon  12613  12721\n",
       "20     1  havana  exon  13221  14409\n",
       "22     1  havana  exon  12010  12057\n",
       "23     1  havana  exon  12179  12227"
      ]
     },
     "execution_count": 106,
     "metadata": {},
     "output_type": "execute_result"
    }
   ],
   "source": [
    "edf.drop('attributes', axis=1, inplace=True)\n",
    "edf.drop('score', axis=1, inplace=True) \n",
    "edf.drop('strand', axis=1, inplace=True) \n",
    "edf.drop('phase', axis=1, inplace=True) \n",
    "edf.head(5)"
   ]
  },
  {
   "cell_type": "code",
   "execution_count": 107,
   "id": "627b0d55-fb1f-4847-aec6-53061e49f4a2",
   "metadata": {},
   "outputs": [
    {
     "name": "stderr",
     "output_type": "stream",
     "text": [
      "/usr/local/lib/python3.6/site-packages/ipykernel_launcher.py:2: SettingWithCopyWarning: \n",
      "A value is trying to be set on a copy of a slice from a DataFrame.\n",
      "Try using .loc[row_indexer,col_indexer] = value instead\n",
      "\n",
      "See the caveats in the documentation: https://pandas.pydata.org/pandas-docs/stable/user_guide/indexing.html#returning-a-view-versus-a-copy\n",
      "  \n"
     ]
    },
    {
     "data": {
      "text/html": [
       "<div>\n",
       "<style scoped>\n",
       "    .dataframe tbody tr th:only-of-type {\n",
       "        vertical-align: middle;\n",
       "    }\n",
       "\n",
       "    .dataframe tbody tr th {\n",
       "        vertical-align: top;\n",
       "    }\n",
       "\n",
       "    .dataframe thead th {\n",
       "        text-align: right;\n",
       "    }\n",
       "</style>\n",
       "<table border=\"1\" class=\"dataframe\">\n",
       "  <thead>\n",
       "    <tr style=\"text-align: right;\">\n",
       "      <th></th>\n",
       "      <th>seqid</th>\n",
       "      <th>source</th>\n",
       "      <th>type</th>\n",
       "      <th>start</th>\n",
       "      <th>end</th>\n",
       "      <th>length</th>\n",
       "    </tr>\n",
       "  </thead>\n",
       "  <tbody>\n",
       "    <tr>\n",
       "      <th>18</th>\n",
       "      <td>1</td>\n",
       "      <td>havana</td>\n",
       "      <td>exon</td>\n",
       "      <td>11869</td>\n",
       "      <td>12227</td>\n",
       "      <td>359</td>\n",
       "    </tr>\n",
       "    <tr>\n",
       "      <th>19</th>\n",
       "      <td>1</td>\n",
       "      <td>havana</td>\n",
       "      <td>exon</td>\n",
       "      <td>12613</td>\n",
       "      <td>12721</td>\n",
       "      <td>109</td>\n",
       "    </tr>\n",
       "    <tr>\n",
       "      <th>20</th>\n",
       "      <td>1</td>\n",
       "      <td>havana</td>\n",
       "      <td>exon</td>\n",
       "      <td>13221</td>\n",
       "      <td>14409</td>\n",
       "      <td>1189</td>\n",
       "    </tr>\n",
       "    <tr>\n",
       "      <th>22</th>\n",
       "      <td>1</td>\n",
       "      <td>havana</td>\n",
       "      <td>exon</td>\n",
       "      <td>12010</td>\n",
       "      <td>12057</td>\n",
       "      <td>48</td>\n",
       "    </tr>\n",
       "    <tr>\n",
       "      <th>23</th>\n",
       "      <td>1</td>\n",
       "      <td>havana</td>\n",
       "      <td>exon</td>\n",
       "      <td>12179</td>\n",
       "      <td>12227</td>\n",
       "      <td>49</td>\n",
       "    </tr>\n",
       "  </tbody>\n",
       "</table>\n",
       "</div>"
      ],
      "text/plain": [
       "   seqid  source  type  start    end  length\n",
       "18     1  havana  exon  11869  12227     359\n",
       "19     1  havana  exon  12613  12721     109\n",
       "20     1  havana  exon  13221  14409    1189\n",
       "22     1  havana  exon  12010  12057      48\n",
       "23     1  havana  exon  12179  12227      49"
      ]
     },
     "execution_count": 107,
     "metadata": {},
     "output_type": "execute_result"
    }
   ],
   "source": [
    "#Add in length column for exons \n",
    "edf['length'] = edf.end - edf.start + 1 \n",
    "edf.head()"
   ]
  },
  {
   "cell_type": "code",
   "execution_count": 108,
   "id": "3aed67d7-8534-43c0-bb6d-44007685853f",
   "metadata": {},
   "outputs": [
    {
     "data": {
      "text/plain": [
       "array(['havana', 'mirbase', 'ensembl', 'ensembl_havana'], dtype=object)"
      ]
     },
     "execution_count": 108,
     "metadata": {},
     "output_type": "execute_result"
    }
   ],
   "source": [
    "edf.source.unique()"
   ]
  },
  {
   "cell_type": "markdown",
   "id": "40d6c917-d742-493f-9566-d5df6f9927ce",
   "metadata": {},
   "source": [
    "1. Histogram for the Entire Genome "
   ]
  },
  {
   "cell_type": "code",
   "execution_count": 109,
   "id": "51a4cd53-9ab9-40aa-9f6e-8d404529ca52",
   "metadata": {},
   "outputs": [
    {
     "data": {
      "image/png": "[encoded data removed]",
      "text/plain": [
       "<Figure size 432x288 with 1 Axes>"
      ]
     },
     "metadata": {
      "needs_background": "light"
     },
     "output_type": "display_data"
    }
   ],
   "source": [
    "import matplotlib.pyplot as plt\n",
    "\n",
    "edf.length.plot(kind='hist', bins=50, logy=True)\n",
    "plt.show()"
   ]
  },
  {
   "cell_type": "markdown",
   "id": "04917a79-99fa-407e-8bfa-32a004574afd",
   "metadata": {},
   "source": [
    "2. Histogram for: 'havana', 'mirbase', 'ensembl', 'ensembl_havana'"
   ]
  },
  {
   "cell_type": "code",
   "execution_count": 110,
   "id": "11999dfe-252d-440d-a61d-5a851604cee2",
   "metadata": {},
   "outputs": [
    {
     "data": {
      "text/html": [
       "<div>\n",
       "<style scoped>\n",
       "    .dataframe tbody tr th:only-of-type {\n",
       "        vertical-align: middle;\n",
       "    }\n",
       "\n",
       "    .dataframe tbody tr th {\n",
       "        vertical-align: top;\n",
       "    }\n",
       "\n",
       "    .dataframe thead th {\n",
       "        text-align: right;\n",
       "    }\n",
       "</style>\n",
       "<table border=\"1\" class=\"dataframe\">\n",
       "  <thead>\n",
       "    <tr style=\"text-align: right;\">\n",
       "      <th></th>\n",
       "      <th>seqid</th>\n",
       "      <th>source</th>\n",
       "      <th>type</th>\n",
       "      <th>start</th>\n",
       "      <th>end</th>\n",
       "      <th>length</th>\n",
       "    </tr>\n",
       "  </thead>\n",
       "  <tbody>\n",
       "    <tr>\n",
       "      <th>18</th>\n",
       "      <td>1</td>\n",
       "      <td>havana</td>\n",
       "      <td>exon</td>\n",
       "      <td>11869</td>\n",
       "      <td>12227</td>\n",
       "      <td>359</td>\n",
       "    </tr>\n",
       "    <tr>\n",
       "      <th>19</th>\n",
       "      <td>1</td>\n",
       "      <td>havana</td>\n",
       "      <td>exon</td>\n",
       "      <td>12613</td>\n",
       "      <td>12721</td>\n",
       "      <td>109</td>\n",
       "    </tr>\n",
       "    <tr>\n",
       "      <th>20</th>\n",
       "      <td>1</td>\n",
       "      <td>havana</td>\n",
       "      <td>exon</td>\n",
       "      <td>13221</td>\n",
       "      <td>14409</td>\n",
       "      <td>1189</td>\n",
       "    </tr>\n",
       "    <tr>\n",
       "      <th>22</th>\n",
       "      <td>1</td>\n",
       "      <td>havana</td>\n",
       "      <td>exon</td>\n",
       "      <td>12010</td>\n",
       "      <td>12057</td>\n",
       "      <td>48</td>\n",
       "    </tr>\n",
       "    <tr>\n",
       "      <th>23</th>\n",
       "      <td>1</td>\n",
       "      <td>havana</td>\n",
       "      <td>exon</td>\n",
       "      <td>12179</td>\n",
       "      <td>12227</td>\n",
       "      <td>49</td>\n",
       "    </tr>\n",
       "  </tbody>\n",
       "</table>\n",
       "</div>"
      ],
      "text/plain": [
       "   seqid  source  type  start    end  length\n",
       "18     1  havana  exon  11869  12227     359\n",
       "19     1  havana  exon  12613  12721     109\n",
       "20     1  havana  exon  13221  14409    1189\n",
       "22     1  havana  exon  12010  12057      48\n",
       "23     1  havana  exon  12179  12227      49"
      ]
     },
     "execution_count": 110,
     "metadata": {},
     "output_type": "execute_result"
    }
   ],
   "source": [
    "havana = edf[edf.source == 'havana']\n",
    "havana.head(5)"
   ]
  },
  {
   "cell_type": "code",
   "execution_count": 111,
   "id": "cbac4918-78fa-47ec-ba26-b31472135077",
   "metadata": {},
   "outputs": [
    {
     "data": {
      "text/html": [
       "<div>\n",
       "<style scoped>\n",
       "    .dataframe tbody tr th:only-of-type {\n",
       "        vertical-align: middle;\n",
       "    }\n",
       "\n",
       "    .dataframe tbody tr th {\n",
       "        vertical-align: top;\n",
       "    }\n",
       "\n",
       "    .dataframe thead th {\n",
       "        text-align: right;\n",
       "    }\n",
       "</style>\n",
       "<table border=\"1\" class=\"dataframe\">\n",
       "  <thead>\n",
       "    <tr style=\"text-align: right;\">\n",
       "      <th></th>\n",
       "      <th>seqid</th>\n",
       "      <th>source</th>\n",
       "      <th>type</th>\n",
       "      <th>start</th>\n",
       "      <th>end</th>\n",
       "      <th>length</th>\n",
       "    </tr>\n",
       "  </thead>\n",
       "  <tbody>\n",
       "    <tr>\n",
       "      <th>44</th>\n",
       "      <td>1</td>\n",
       "      <td>mirbase</td>\n",
       "      <td>exon</td>\n",
       "      <td>17369</td>\n",
       "      <td>17436</td>\n",
       "      <td>68</td>\n",
       "    </tr>\n",
       "    <tr>\n",
       "      <th>256</th>\n",
       "      <td>1</td>\n",
       "      <td>mirbase</td>\n",
       "      <td>exon</td>\n",
       "      <td>187891</td>\n",
       "      <td>187958</td>\n",
       "      <td>68</td>\n",
       "    </tr>\n",
       "    <tr>\n",
       "      <th>475</th>\n",
       "      <td>1</td>\n",
       "      <td>mirbase</td>\n",
       "      <td>exon</td>\n",
       "      <td>632325</td>\n",
       "      <td>632413</td>\n",
       "      <td>89</td>\n",
       "    </tr>\n",
       "    <tr>\n",
       "      <th>2346</th>\n",
       "      <td>1</td>\n",
       "      <td>mirbase</td>\n",
       "      <td>exon</td>\n",
       "      <td>1167104</td>\n",
       "      <td>1167198</td>\n",
       "      <td>95</td>\n",
       "    </tr>\n",
       "    <tr>\n",
       "      <th>2350</th>\n",
       "      <td>1</td>\n",
       "      <td>mirbase</td>\n",
       "      <td>exon</td>\n",
       "      <td>1167863</td>\n",
       "      <td>1167952</td>\n",
       "      <td>90</td>\n",
       "    </tr>\n",
       "  </tbody>\n",
       "</table>\n",
       "</div>"
      ],
      "text/plain": [
       "     seqid   source  type    start      end  length\n",
       "44       1  mirbase  exon    17369    17436      68\n",
       "256      1  mirbase  exon   187891   187958      68\n",
       "475      1  mirbase  exon   632325   632413      89\n",
       "2346     1  mirbase  exon  1167104  1167198      95\n",
       "2350     1  mirbase  exon  1167863  1167952      90"
      ]
     },
     "execution_count": 111,
     "metadata": {},
     "output_type": "execute_result"
    }
   ],
   "source": [
    "mirbase = edf[edf.source == 'mirbase']\n",
    "mirbase.head(5)"
   ]
  },
  {
   "cell_type": "code",
   "execution_count": 112,
   "id": "321f4ab4-f319-4453-b6aa-0af28165d431",
   "metadata": {},
   "outputs": [
    {
     "data": {
      "text/html": [
       "<div>\n",
       "<style scoped>\n",
       "    .dataframe tbody tr th:only-of-type {\n",
       "        vertical-align: middle;\n",
       "    }\n",
       "\n",
       "    .dataframe tbody tr th {\n",
       "        vertical-align: top;\n",
       "    }\n",
       "\n",
       "    .dataframe thead th {\n",
       "        text-align: right;\n",
       "    }\n",
       "</style>\n",
       "<table border=\"1\" class=\"dataframe\">\n",
       "  <thead>\n",
       "    <tr style=\"text-align: right;\">\n",
       "      <th></th>\n",
       "      <th>seqid</th>\n",
       "      <th>source</th>\n",
       "      <th>type</th>\n",
       "      <th>start</th>\n",
       "      <th>end</th>\n",
       "      <th>length</th>\n",
       "    </tr>\n",
       "  </thead>\n",
       "  <tbody>\n",
       "    <tr>\n",
       "      <th>60</th>\n",
       "      <td>1</td>\n",
       "      <td>ensembl</td>\n",
       "      <td>exon</td>\n",
       "      <td>30366</td>\n",
       "      <td>30503</td>\n",
       "      <td>138</td>\n",
       "    </tr>\n",
       "    <tr>\n",
       "      <th>97</th>\n",
       "      <td>1</td>\n",
       "      <td>ensembl</td>\n",
       "      <td>exon</td>\n",
       "      <td>120725</td>\n",
       "      <td>120869</td>\n",
       "      <td>145</td>\n",
       "    </tr>\n",
       "    <tr>\n",
       "      <th>98</th>\n",
       "      <td>1</td>\n",
       "      <td>ensembl</td>\n",
       "      <td>exon</td>\n",
       "      <td>120874</td>\n",
       "      <td>120932</td>\n",
       "      <td>59</td>\n",
       "    </tr>\n",
       "    <tr>\n",
       "      <th>99</th>\n",
       "      <td>1</td>\n",
       "      <td>ensembl</td>\n",
       "      <td>exon</td>\n",
       "      <td>129055</td>\n",
       "      <td>129223</td>\n",
       "      <td>169</td>\n",
       "    </tr>\n",
       "    <tr>\n",
       "      <th>100</th>\n",
       "      <td>1</td>\n",
       "      <td>ensembl</td>\n",
       "      <td>exon</td>\n",
       "      <td>133374</td>\n",
       "      <td>133723</td>\n",
       "      <td>350</td>\n",
       "    </tr>\n",
       "  </tbody>\n",
       "</table>\n",
       "</div>"
      ],
      "text/plain": [
       "    seqid   source  type   start     end  length\n",
       "60      1  ensembl  exon   30366   30503     138\n",
       "97      1  ensembl  exon  120725  120869     145\n",
       "98      1  ensembl  exon  120874  120932      59\n",
       "99      1  ensembl  exon  129055  129223     169\n",
       "100     1  ensembl  exon  133374  133723     350"
      ]
     },
     "execution_count": 112,
     "metadata": {},
     "output_type": "execute_result"
    }
   ],
   "source": [
    "ensembl = edf[edf.source == 'ensembl']\n",
    "ensembl.head(5)"
   ]
  },
  {
   "cell_type": "code",
   "execution_count": 113,
   "id": "d8f1f898-c38b-4cf1-897b-0c32847278d3",
   "metadata": {},
   "outputs": [
    {
     "data": {
      "text/html": [
       "<div>\n",
       "<style scoped>\n",
       "    .dataframe tbody tr th:only-of-type {\n",
       "        vertical-align: middle;\n",
       "    }\n",
       "\n",
       "    .dataframe tbody tr th {\n",
       "        vertical-align: top;\n",
       "    }\n",
       "\n",
       "    .dataframe thead th {\n",
       "        text-align: right;\n",
       "    }\n",
       "</style>\n",
       "<table border=\"1\" class=\"dataframe\">\n",
       "  <thead>\n",
       "    <tr style=\"text-align: right;\">\n",
       "      <th></th>\n",
       "      <th>seqid</th>\n",
       "      <th>source</th>\n",
       "      <th>type</th>\n",
       "      <th>start</th>\n",
       "      <th>end</th>\n",
       "      <th>length</th>\n",
       "    </tr>\n",
       "  </thead>\n",
       "  <tbody>\n",
       "    <tr>\n",
       "      <th>79</th>\n",
       "      <td>1</td>\n",
       "      <td>ensembl_havana</td>\n",
       "      <td>exon</td>\n",
       "      <td>69091</td>\n",
       "      <td>70008</td>\n",
       "      <td>918</td>\n",
       "    </tr>\n",
       "    <tr>\n",
       "      <th>380</th>\n",
       "      <td>1</td>\n",
       "      <td>ensembl_havana</td>\n",
       "      <td>exon</td>\n",
       "      <td>450740</td>\n",
       "      <td>451678</td>\n",
       "      <td>939</td>\n",
       "    </tr>\n",
       "    <tr>\n",
       "      <th>493</th>\n",
       "      <td>1</td>\n",
       "      <td>ensembl_havana</td>\n",
       "      <td>exon</td>\n",
       "      <td>685716</td>\n",
       "      <td>686654</td>\n",
       "      <td>939</td>\n",
       "    </tr>\n",
       "    <tr>\n",
       "      <th>1243</th>\n",
       "      <td>1</td>\n",
       "      <td>ensembl_havana</td>\n",
       "      <td>exon</td>\n",
       "      <td>944204</td>\n",
       "      <td>944800</td>\n",
       "      <td>597</td>\n",
       "    </tr>\n",
       "    <tr>\n",
       "      <th>1245</th>\n",
       "      <td>1</td>\n",
       "      <td>ensembl_havana</td>\n",
       "      <td>exon</td>\n",
       "      <td>945057</td>\n",
       "      <td>945146</td>\n",
       "      <td>90</td>\n",
       "    </tr>\n",
       "  </tbody>\n",
       "</table>\n",
       "</div>"
      ],
      "text/plain": [
       "     seqid          source  type   start     end  length\n",
       "79       1  ensembl_havana  exon   69091   70008     918\n",
       "380      1  ensembl_havana  exon  450740  451678     939\n",
       "493      1  ensembl_havana  exon  685716  686654     939\n",
       "1243     1  ensembl_havana  exon  944204  944800     597\n",
       "1245     1  ensembl_havana  exon  945057  945146      90"
      ]
     },
     "execution_count": 113,
     "metadata": {},
     "output_type": "execute_result"
    }
   ],
   "source": [
    "ensembl_havana = edf[edf.source == 'ensembl_havana']\n",
    "ensembl_havana.head(5)"
   ]
  },
  {
   "cell_type": "code",
   "execution_count": 114,
   "id": "c8e6300e-26ea-44ba-ae4a-a9ada9f9fd40",
   "metadata": {},
   "outputs": [
    {
     "data": {
      "image/png": "[encoded data removed]",
      "text/plain": [
       "<Figure size 432x288 with 1 Axes>"
      ]
     },
     "metadata": {
      "needs_background": "light"
     },
     "output_type": "display_data"
    }
   ],
   "source": [
    "havana.length.plot(kind='hist', bins=50, logy=True)\n",
    "plt.show()"
   ]
  },
  {
   "cell_type": "code",
   "execution_count": 115,
   "id": "65b2f95a-3c59-4d2f-bdfc-5c598c81477b",
   "metadata": {},
   "outputs": [
    {
     "data": {
      "image/png": "[encoded data removed]",
      "text/plain": [
       "<Figure size 432x288 with 1 Axes>"
      ]
     },
     "metadata": {
      "needs_background": "light"
     },
     "output_type": "display_data"
    }
   ],
   "source": [
    "mirbase.length.plot(kind='hist', bins=50, logy=True)\n",
    "plt.show()"
   ]
  },
  {
   "cell_type": "code",
   "execution_count": 116,
   "id": "224d110f-64a6-4eec-934b-329f4d38350a",
   "metadata": {},
   "outputs": [
    {
     "data": {
      "image/png": "[encoded data removed]",
      "text/plain": [
       "<Figure size 432x288 with 1 Axes>"
      ]
     },
     "metadata": {
      "needs_background": "light"
     },
     "output_type": "display_data"
    }
   ],
   "source": [
    "ensembl.length.plot(kind='hist', bins=50, logy=True)\n",
    "plt.show()"
   ]
  },
  {
   "cell_type": "code",
   "execution_count": 117,
   "id": "17c05348-f3a8-4749-a6b9-c043d75ace90",
   "metadata": {},
   "outputs": [
    {
     "data": {
      "image/png": "[encoded data removed]",
      "text/plain": [
       "<Figure size 432x288 with 1 Axes>"
      ]
     },
     "metadata": {
      "needs_background": "light"
     },
     "output_type": "display_data"
    }
   ],
   "source": [
    "ensembl_havana.length.plot(kind='hist', bins=50, logy=True)\n",
    "plt.show()"
   ]
  },
  {
   "cell_type": "markdown",
   "id": "fd22c347-aadf-4764-87b5-13ed7c07cfb2",
   "metadata": {},
   "source": [
    "#### W5-H19: Parse the description column: Anything you can visualize? Visualize at least one thing."
   ]
  },
  {
   "cell_type": "code",
   "execution_count": 118,
   "id": "6e446ee5-df08-4de8-bd99-fb848ff81c44",
   "metadata": {},
   "outputs": [
    {
     "data": {
      "text/html": [
       "<div>\n",
       "<style scoped>\n",
       "    .dataframe tbody tr th:only-of-type {\n",
       "        vertical-align: middle;\n",
       "    }\n",
       "\n",
       "    .dataframe tbody tr th {\n",
       "        vertical-align: top;\n",
       "    }\n",
       "\n",
       "    .dataframe thead th {\n",
       "        text-align: right;\n",
       "    }\n",
       "</style>\n",
       "<table border=\"1\" class=\"dataframe\">\n",
       "  <thead>\n",
       "    <tr style=\"text-align: right;\">\n",
       "      <th></th>\n",
       "      <th>seqid</th>\n",
       "      <th>source</th>\n",
       "      <th>type</th>\n",
       "      <th>start</th>\n",
       "      <th>end</th>\n",
       "      <th>score</th>\n",
       "      <th>strand</th>\n",
       "      <th>phase</th>\n",
       "      <th>attributes</th>\n",
       "    </tr>\n",
       "  </thead>\n",
       "  <tbody>\n",
       "    <tr>\n",
       "      <th>16</th>\n",
       "      <td>1</td>\n",
       "      <td>havana</td>\n",
       "      <td>gene</td>\n",
       "      <td>11869</td>\n",
       "      <td>14409</td>\n",
       "      <td>.</td>\n",
       "      <td>+</td>\n",
       "      <td>.</td>\n",
       "      <td>ID=gene:ENSG00000223972;Name=DDX11L1;biotype=t...</td>\n",
       "    </tr>\n",
       "    <tr>\n",
       "      <th>28</th>\n",
       "      <td>1</td>\n",
       "      <td>havana</td>\n",
       "      <td>gene</td>\n",
       "      <td>14404</td>\n",
       "      <td>29570</td>\n",
       "      <td>.</td>\n",
       "      <td>-</td>\n",
       "      <td>.</td>\n",
       "      <td>ID=gene:ENSG00000227232;Name=WASH7P;biotype=un...</td>\n",
       "    </tr>\n",
       "    <tr>\n",
       "      <th>71</th>\n",
       "      <td>1</td>\n",
       "      <td>havana</td>\n",
       "      <td>gene</td>\n",
       "      <td>52473</td>\n",
       "      <td>53312</td>\n",
       "      <td>.</td>\n",
       "      <td>+</td>\n",
       "      <td>.</td>\n",
       "      <td>ID=gene:ENSG00000268020;Name=OR4G4P;biotype=un...</td>\n",
       "    </tr>\n",
       "    <tr>\n",
       "      <th>74</th>\n",
       "      <td>1</td>\n",
       "      <td>havana</td>\n",
       "      <td>gene</td>\n",
       "      <td>62948</td>\n",
       "      <td>63887</td>\n",
       "      <td>.</td>\n",
       "      <td>+</td>\n",
       "      <td>.</td>\n",
       "      <td>ID=gene:ENSG00000240361;Name=OR4G11P;biotype=u...</td>\n",
       "    </tr>\n",
       "    <tr>\n",
       "      <th>77</th>\n",
       "      <td>1</td>\n",
       "      <td>ensembl_havana</td>\n",
       "      <td>gene</td>\n",
       "      <td>69091</td>\n",
       "      <td>70008</td>\n",
       "      <td>.</td>\n",
       "      <td>+</td>\n",
       "      <td>.</td>\n",
       "      <td>ID=gene:ENSG00000186092;Name=OR4F5;biotype=pro...</td>\n",
       "    </tr>\n",
       "  </tbody>\n",
       "</table>\n",
       "</div>"
      ],
      "text/plain": [
       "   seqid          source  type  start    end score strand phase  \\\n",
       "16     1          havana  gene  11869  14409     .      +     .   \n",
       "28     1          havana  gene  14404  29570     .      -     .   \n",
       "71     1          havana  gene  52473  53312     .      +     .   \n",
       "74     1          havana  gene  62948  63887     .      +     .   \n",
       "77     1  ensembl_havana  gene  69091  70008     .      +     .   \n",
       "\n",
       "                                           attributes  \n",
       "16  ID=gene:ENSG00000223972;Name=DDX11L1;biotype=t...  \n",
       "28  ID=gene:ENSG00000227232;Name=WASH7P;biotype=un...  \n",
       "71  ID=gene:ENSG00000268020;Name=OR4G4P;biotype=un...  \n",
       "74  ID=gene:ENSG00000240361;Name=OR4G11P;biotype=u...  \n",
       "77  ID=gene:ENSG00000186092;Name=OR4F5;biotype=pro...  "
      ]
     },
     "execution_count": 118,
     "metadata": {},
     "output_type": "execute_result"
    }
   ],
   "source": [
    "gdf = df[df.type == 'gene']\n",
    "gdf.head(5)"
   ]
  },
  {
   "cell_type": "code",
   "execution_count": 119,
   "id": "0c2ff352-0714-4504-9b73-7b4e98215e72",
   "metadata": {},
   "outputs": [
    {
     "name": "stderr",
     "output_type": "stream",
     "text": [
      "/usr/local/lib/python3.6/site-packages/ipykernel_launcher.py:8: SettingWithCopyWarning: \n",
      "A value is trying to be set on a copy of a slice from a DataFrame.\n",
      "Try using .loc[row_indexer,col_indexer] = value instead\n",
      "\n",
      "See the caveats in the documentation: https://pandas.pydata.org/pandas-docs/stable/user_guide/indexing.html#returning-a-view-versus-a-copy\n",
      "  \n"
     ]
    },
    {
     "data": {
      "text/html": [
       "<div>\n",
       "<style scoped>\n",
       "    .dataframe tbody tr th:only-of-type {\n",
       "        vertical-align: middle;\n",
       "    }\n",
       "\n",
       "    .dataframe tbody tr th {\n",
       "        vertical-align: top;\n",
       "    }\n",
       "\n",
       "    .dataframe thead th {\n",
       "        text-align: right;\n",
       "    }\n",
       "</style>\n",
       "<table border=\"1\" class=\"dataframe\">\n",
       "  <thead>\n",
       "    <tr style=\"text-align: right;\">\n",
       "      <th></th>\n",
       "      <th>seqid</th>\n",
       "      <th>source</th>\n",
       "      <th>type</th>\n",
       "      <th>start</th>\n",
       "      <th>end</th>\n",
       "      <th>score</th>\n",
       "      <th>strand</th>\n",
       "      <th>phase</th>\n",
       "      <th>attributes</th>\n",
       "      <th>gene_name</th>\n",
       "    </tr>\n",
       "  </thead>\n",
       "  <tbody>\n",
       "    <tr>\n",
       "      <th>16</th>\n",
       "      <td>1</td>\n",
       "      <td>havana</td>\n",
       "      <td>gene</td>\n",
       "      <td>11869</td>\n",
       "      <td>14409</td>\n",
       "      <td>.</td>\n",
       "      <td>+</td>\n",
       "      <td>.</td>\n",
       "      <td>ID=gene:ENSG00000223972;Name=DDX11L1;biotype=t...</td>\n",
       "      <td>DDX11L1</td>\n",
       "    </tr>\n",
       "    <tr>\n",
       "      <th>28</th>\n",
       "      <td>1</td>\n",
       "      <td>havana</td>\n",
       "      <td>gene</td>\n",
       "      <td>14404</td>\n",
       "      <td>29570</td>\n",
       "      <td>.</td>\n",
       "      <td>-</td>\n",
       "      <td>.</td>\n",
       "      <td>ID=gene:ENSG00000227232;Name=WASH7P;biotype=un...</td>\n",
       "      <td>WASH7P</td>\n",
       "    </tr>\n",
       "    <tr>\n",
       "      <th>71</th>\n",
       "      <td>1</td>\n",
       "      <td>havana</td>\n",
       "      <td>gene</td>\n",
       "      <td>52473</td>\n",
       "      <td>53312</td>\n",
       "      <td>.</td>\n",
       "      <td>+</td>\n",
       "      <td>.</td>\n",
       "      <td>ID=gene:ENSG00000268020;Name=OR4G4P;biotype=un...</td>\n",
       "      <td>OR4G4P</td>\n",
       "    </tr>\n",
       "    <tr>\n",
       "      <th>74</th>\n",
       "      <td>1</td>\n",
       "      <td>havana</td>\n",
       "      <td>gene</td>\n",
       "      <td>62948</td>\n",
       "      <td>63887</td>\n",
       "      <td>.</td>\n",
       "      <td>+</td>\n",
       "      <td>.</td>\n",
       "      <td>ID=gene:ENSG00000240361;Name=OR4G11P;biotype=u...</td>\n",
       "      <td>OR4G11P</td>\n",
       "    </tr>\n",
       "    <tr>\n",
       "      <th>77</th>\n",
       "      <td>1</td>\n",
       "      <td>ensembl_havana</td>\n",
       "      <td>gene</td>\n",
       "      <td>69091</td>\n",
       "      <td>70008</td>\n",
       "      <td>.</td>\n",
       "      <td>+</td>\n",
       "      <td>.</td>\n",
       "      <td>ID=gene:ENSG00000186092;Name=OR4F5;biotype=pro...</td>\n",
       "      <td>OR4F5</td>\n",
       "    </tr>\n",
       "    <tr>\n",
       "      <th>...</th>\n",
       "      <td>...</td>\n",
       "      <td>...</td>\n",
       "      <td>...</td>\n",
       "      <td>...</td>\n",
       "      <td>...</td>\n",
       "      <td>...</td>\n",
       "      <td>...</td>\n",
       "      <td>...</td>\n",
       "      <td>...</td>\n",
       "      <td>...</td>\n",
       "    </tr>\n",
       "    <tr>\n",
       "      <th>2601818</th>\n",
       "      <td>Y</td>\n",
       "      <td>havana</td>\n",
       "      <td>gene</td>\n",
       "      <td>26549425</td>\n",
       "      <td>26549743</td>\n",
       "      <td>.</td>\n",
       "      <td>+</td>\n",
       "      <td>.</td>\n",
       "      <td>ID=gene:ENSG00000224240;Name=CYCSP49;biotype=p...</td>\n",
       "      <td>CYCSP49</td>\n",
       "    </tr>\n",
       "    <tr>\n",
       "      <th>2601821</th>\n",
       "      <td>Y</td>\n",
       "      <td>havana</td>\n",
       "      <td>gene</td>\n",
       "      <td>26586642</td>\n",
       "      <td>26591601</td>\n",
       "      <td>.</td>\n",
       "      <td>-</td>\n",
       "      <td>.</td>\n",
       "      <td>ID=gene:ENSG00000227629;Name=SLC25A15P1;biotyp...</td>\n",
       "      <td>SLC25A15P1</td>\n",
       "    </tr>\n",
       "    <tr>\n",
       "      <th>2601826</th>\n",
       "      <td>Y</td>\n",
       "      <td>havana</td>\n",
       "      <td>gene</td>\n",
       "      <td>26594851</td>\n",
       "      <td>26634652</td>\n",
       "      <td>.</td>\n",
       "      <td>-</td>\n",
       "      <td>.</td>\n",
       "      <td>ID=gene:ENSG00000237917;Name=PARP4P1;biotype=u...</td>\n",
       "      <td>PARP4P1</td>\n",
       "    </tr>\n",
       "    <tr>\n",
       "      <th>2601841</th>\n",
       "      <td>Y</td>\n",
       "      <td>havana</td>\n",
       "      <td>gene</td>\n",
       "      <td>26626520</td>\n",
       "      <td>26627159</td>\n",
       "      <td>.</td>\n",
       "      <td>-</td>\n",
       "      <td>.</td>\n",
       "      <td>ID=gene:ENSG00000231514;Name=FAM58CP;biotype=p...</td>\n",
       "      <td>FAM58CP</td>\n",
       "    </tr>\n",
       "    <tr>\n",
       "      <th>2601846</th>\n",
       "      <td>Y</td>\n",
       "      <td>havana</td>\n",
       "      <td>gene</td>\n",
       "      <td>56855244</td>\n",
       "      <td>56855488</td>\n",
       "      <td>.</td>\n",
       "      <td>+</td>\n",
       "      <td>.</td>\n",
       "      <td>ID=gene:ENSG00000235857;Name=CTBP2P1;biotype=p...</td>\n",
       "      <td>CTBP2P1</td>\n",
       "    </tr>\n",
       "  </tbody>\n",
       "</table>\n",
       "<p>42485 rows × 10 columns</p>\n",
       "</div>"
      ],
      "text/plain": [
       "        seqid          source  type     start       end score strand phase  \\\n",
       "16          1          havana  gene     11869     14409     .      +     .   \n",
       "28          1          havana  gene     14404     29570     .      -     .   \n",
       "71          1          havana  gene     52473     53312     .      +     .   \n",
       "74          1          havana  gene     62948     63887     .      +     .   \n",
       "77          1  ensembl_havana  gene     69091     70008     .      +     .   \n",
       "...       ...             ...   ...       ...       ...   ...    ...   ...   \n",
       "2601818     Y          havana  gene  26549425  26549743     .      +     .   \n",
       "2601821     Y          havana  gene  26586642  26591601     .      -     .   \n",
       "2601826     Y          havana  gene  26594851  26634652     .      -     .   \n",
       "2601841     Y          havana  gene  26626520  26627159     .      -     .   \n",
       "2601846     Y          havana  gene  56855244  56855488     .      +     .   \n",
       "\n",
       "                                                attributes   gene_name  \n",
       "16       ID=gene:ENSG00000223972;Name=DDX11L1;biotype=t...     DDX11L1  \n",
       "28       ID=gene:ENSG00000227232;Name=WASH7P;biotype=un...      WASH7P  \n",
       "71       ID=gene:ENSG00000268020;Name=OR4G4P;biotype=un...      OR4G4P  \n",
       "74       ID=gene:ENSG00000240361;Name=OR4G11P;biotype=u...     OR4G11P  \n",
       "77       ID=gene:ENSG00000186092;Name=OR4F5;biotype=pro...       OR4F5  \n",
       "...                                                    ...         ...  \n",
       "2601818  ID=gene:ENSG00000224240;Name=CYCSP49;biotype=p...     CYCSP49  \n",
       "2601821  ID=gene:ENSG00000227629;Name=SLC25A15P1;biotyp...  SLC25A15P1  \n",
       "2601826  ID=gene:ENSG00000237917;Name=PARP4P1;biotype=u...     PARP4P1  \n",
       "2601841  ID=gene:ENSG00000231514;Name=FAM58CP;biotype=p...     FAM58CP  \n",
       "2601846  ID=gene:ENSG00000235857;Name=CTBP2P1;biotype=p...     CTBP2P1  \n",
       "\n",
       "[42485 rows x 10 columns]"
      ]
     },
     "execution_count": 119,
     "metadata": {},
     "output_type": "execute_result"
    }
   ],
   "source": [
    "import re\n",
    "\n",
    "RE_GENE_NAME = re.compile(r'Name=(?P<gene_name>.+?);') \n",
    "def extract_gene_name(attributes_str):\n",
    "    res = RE_GENE_NAME.search(attributes_str)\n",
    "    return res.group('gene_name')\n",
    "\n",
    "gdf['gene_name'] = gdf.attributes.apply(extract_gene_name)\n",
    "gdf"
   ]
  },
  {
   "cell_type": "code",
   "execution_count": 120,
   "id": "f763fd29-46f2-4740-be59-d010f4d2c738",
   "metadata": {},
   "outputs": [
    {
     "name": "stderr",
     "output_type": "stream",
     "text": [
      "/usr/local/lib/python3.6/site-packages/ipykernel_launcher.py:6: SettingWithCopyWarning: \n",
      "A value is trying to be set on a copy of a slice from a DataFrame.\n",
      "Try using .loc[row_indexer,col_indexer] = value instead\n",
      "\n",
      "See the caveats in the documentation: https://pandas.pydata.org/pandas-docs/stable/user_guide/indexing.html#returning-a-view-versus-a-copy\n",
      "  \n"
     ]
    },
    {
     "data": {
      "text/html": [
       "<div>\n",
       "<style scoped>\n",
       "    .dataframe tbody tr th:only-of-type {\n",
       "        vertical-align: middle;\n",
       "    }\n",
       "\n",
       "    .dataframe tbody tr th {\n",
       "        vertical-align: top;\n",
       "    }\n",
       "\n",
       "    .dataframe thead th {\n",
       "        text-align: right;\n",
       "    }\n",
       "</style>\n",
       "<table border=\"1\" class=\"dataframe\">\n",
       "  <thead>\n",
       "    <tr style=\"text-align: right;\">\n",
       "      <th></th>\n",
       "      <th>seqid</th>\n",
       "      <th>source</th>\n",
       "      <th>type</th>\n",
       "      <th>start</th>\n",
       "      <th>end</th>\n",
       "      <th>score</th>\n",
       "      <th>strand</th>\n",
       "      <th>phase</th>\n",
       "      <th>attributes</th>\n",
       "      <th>gene_name</th>\n",
       "      <th>gene_id</th>\n",
       "    </tr>\n",
       "  </thead>\n",
       "  <tbody>\n",
       "    <tr>\n",
       "      <th>16</th>\n",
       "      <td>1</td>\n",
       "      <td>havana</td>\n",
       "      <td>gene</td>\n",
       "      <td>11869</td>\n",
       "      <td>14409</td>\n",
       "      <td>.</td>\n",
       "      <td>+</td>\n",
       "      <td>.</td>\n",
       "      <td>ID=gene:ENSG00000223972;Name=DDX11L1;biotype=t...</td>\n",
       "      <td>DDX11L1</td>\n",
       "      <td>ENSG00000223972</td>\n",
       "    </tr>\n",
       "    <tr>\n",
       "      <th>28</th>\n",
       "      <td>1</td>\n",
       "      <td>havana</td>\n",
       "      <td>gene</td>\n",
       "      <td>14404</td>\n",
       "      <td>29570</td>\n",
       "      <td>.</td>\n",
       "      <td>-</td>\n",
       "      <td>.</td>\n",
       "      <td>ID=gene:ENSG00000227232;Name=WASH7P;biotype=un...</td>\n",
       "      <td>WASH7P</td>\n",
       "      <td>ENSG00000227232</td>\n",
       "    </tr>\n",
       "    <tr>\n",
       "      <th>71</th>\n",
       "      <td>1</td>\n",
       "      <td>havana</td>\n",
       "      <td>gene</td>\n",
       "      <td>52473</td>\n",
       "      <td>53312</td>\n",
       "      <td>.</td>\n",
       "      <td>+</td>\n",
       "      <td>.</td>\n",
       "      <td>ID=gene:ENSG00000268020;Name=OR4G4P;biotype=un...</td>\n",
       "      <td>OR4G4P</td>\n",
       "      <td>ENSG00000268020</td>\n",
       "    </tr>\n",
       "    <tr>\n",
       "      <th>74</th>\n",
       "      <td>1</td>\n",
       "      <td>havana</td>\n",
       "      <td>gene</td>\n",
       "      <td>62948</td>\n",
       "      <td>63887</td>\n",
       "      <td>.</td>\n",
       "      <td>+</td>\n",
       "      <td>.</td>\n",
       "      <td>ID=gene:ENSG00000240361;Name=OR4G11P;biotype=u...</td>\n",
       "      <td>OR4G11P</td>\n",
       "      <td>ENSG00000240361</td>\n",
       "    </tr>\n",
       "    <tr>\n",
       "      <th>77</th>\n",
       "      <td>1</td>\n",
       "      <td>ensembl_havana</td>\n",
       "      <td>gene</td>\n",
       "      <td>69091</td>\n",
       "      <td>70008</td>\n",
       "      <td>.</td>\n",
       "      <td>+</td>\n",
       "      <td>.</td>\n",
       "      <td>ID=gene:ENSG00000186092;Name=OR4F5;biotype=pro...</td>\n",
       "      <td>OR4F5</td>\n",
       "      <td>ENSG00000186092</td>\n",
       "    </tr>\n",
       "    <tr>\n",
       "      <th>...</th>\n",
       "      <td>...</td>\n",
       "      <td>...</td>\n",
       "      <td>...</td>\n",
       "      <td>...</td>\n",
       "      <td>...</td>\n",
       "      <td>...</td>\n",
       "      <td>...</td>\n",
       "      <td>...</td>\n",
       "      <td>...</td>\n",
       "      <td>...</td>\n",
       "      <td>...</td>\n",
       "    </tr>\n",
       "    <tr>\n",
       "      <th>2601818</th>\n",
       "      <td>Y</td>\n",
       "      <td>havana</td>\n",
       "      <td>gene</td>\n",
       "      <td>26549425</td>\n",
       "      <td>26549743</td>\n",
       "      <td>.</td>\n",
       "      <td>+</td>\n",
       "      <td>.</td>\n",
       "      <td>ID=gene:ENSG00000224240;Name=CYCSP49;biotype=p...</td>\n",
       "      <td>CYCSP49</td>\n",
       "      <td>ENSG00000224240</td>\n",
       "    </tr>\n",
       "    <tr>\n",
       "      <th>2601821</th>\n",
       "      <td>Y</td>\n",
       "      <td>havana</td>\n",
       "      <td>gene</td>\n",
       "      <td>26586642</td>\n",
       "      <td>26591601</td>\n",
       "      <td>.</td>\n",
       "      <td>-</td>\n",
       "      <td>.</td>\n",
       "      <td>ID=gene:ENSG00000227629;Name=SLC25A15P1;biotyp...</td>\n",
       "      <td>SLC25A15P1</td>\n",
       "      <td>ENSG00000227629</td>\n",
       "    </tr>\n",
       "    <tr>\n",
       "      <th>2601826</th>\n",
       "      <td>Y</td>\n",
       "      <td>havana</td>\n",
       "      <td>gene</td>\n",
       "      <td>26594851</td>\n",
       "      <td>26634652</td>\n",
       "      <td>.</td>\n",
       "      <td>-</td>\n",
       "      <td>.</td>\n",
       "      <td>ID=gene:ENSG00000237917;Name=PARP4P1;biotype=u...</td>\n",
       "      <td>PARP4P1</td>\n",
       "      <td>ENSG00000237917</td>\n",
       "    </tr>\n",
       "    <tr>\n",
       "      <th>2601841</th>\n",
       "      <td>Y</td>\n",
       "      <td>havana</td>\n",
       "      <td>gene</td>\n",
       "      <td>26626520</td>\n",
       "      <td>26627159</td>\n",
       "      <td>.</td>\n",
       "      <td>-</td>\n",
       "      <td>.</td>\n",
       "      <td>ID=gene:ENSG00000231514;Name=FAM58CP;biotype=p...</td>\n",
       "      <td>FAM58CP</td>\n",
       "      <td>ENSG00000231514</td>\n",
       "    </tr>\n",
       "    <tr>\n",
       "      <th>2601846</th>\n",
       "      <td>Y</td>\n",
       "      <td>havana</td>\n",
       "      <td>gene</td>\n",
       "      <td>56855244</td>\n",
       "      <td>56855488</td>\n",
       "      <td>.</td>\n",
       "      <td>+</td>\n",
       "      <td>.</td>\n",
       "      <td>ID=gene:ENSG00000235857;Name=CTBP2P1;biotype=p...</td>\n",
       "      <td>CTBP2P1</td>\n",
       "      <td>ENSG00000235857</td>\n",
       "    </tr>\n",
       "  </tbody>\n",
       "</table>\n",
       "<p>42485 rows × 11 columns</p>\n",
       "</div>"
      ],
      "text/plain": [
       "        seqid          source  type     start       end score strand phase  \\\n",
       "16          1          havana  gene     11869     14409     .      +     .   \n",
       "28          1          havana  gene     14404     29570     .      -     .   \n",
       "71          1          havana  gene     52473     53312     .      +     .   \n",
       "74          1          havana  gene     62948     63887     .      +     .   \n",
       "77          1  ensembl_havana  gene     69091     70008     .      +     .   \n",
       "...       ...             ...   ...       ...       ...   ...    ...   ...   \n",
       "2601818     Y          havana  gene  26549425  26549743     .      +     .   \n",
       "2601821     Y          havana  gene  26586642  26591601     .      -     .   \n",
       "2601826     Y          havana  gene  26594851  26634652     .      -     .   \n",
       "2601841     Y          havana  gene  26626520  26627159     .      -     .   \n",
       "2601846     Y          havana  gene  56855244  56855488     .      +     .   \n",
       "\n",
       "                                                attributes   gene_name  \\\n",
       "16       ID=gene:ENSG00000223972;Name=DDX11L1;biotype=t...     DDX11L1   \n",
       "28       ID=gene:ENSG00000227232;Name=WASH7P;biotype=un...      WASH7P   \n",
       "71       ID=gene:ENSG00000268020;Name=OR4G4P;biotype=un...      OR4G4P   \n",
       "74       ID=gene:ENSG00000240361;Name=OR4G11P;biotype=u...     OR4G11P   \n",
       "77       ID=gene:ENSG00000186092;Name=OR4F5;biotype=pro...       OR4F5   \n",
       "...                                                    ...         ...   \n",
       "2601818  ID=gene:ENSG00000224240;Name=CYCSP49;biotype=p...     CYCSP49   \n",
       "2601821  ID=gene:ENSG00000227629;Name=SLC25A15P1;biotyp...  SLC25A15P1   \n",
       "2601826  ID=gene:ENSG00000237917;Name=PARP4P1;biotype=u...     PARP4P1   \n",
       "2601841  ID=gene:ENSG00000231514;Name=FAM58CP;biotype=p...     FAM58CP   \n",
       "2601846  ID=gene:ENSG00000235857;Name=CTBP2P1;biotype=p...     CTBP2P1   \n",
       "\n",
       "                 gene_id  \n",
       "16       ENSG00000223972  \n",
       "28       ENSG00000227232  \n",
       "71       ENSG00000268020  \n",
       "74       ENSG00000240361  \n",
       "77       ENSG00000186092  \n",
       "...                  ...  \n",
       "2601818  ENSG00000224240  \n",
       "2601821  ENSG00000227629  \n",
       "2601826  ENSG00000237917  \n",
       "2601841  ENSG00000231514  \n",
       "2601846  ENSG00000235857  \n",
       "\n",
       "[42485 rows x 11 columns]"
      ]
     },
     "execution_count": 120,
     "metadata": {},
     "output_type": "execute_result"
    }
   ],
   "source": [
    "RE_GENE_ID = re.compile(r'gene_id=(?P<gene_id>ENSG.+?);')\n",
    "def extract_gene_id(attributes_str):\n",
    "    res = RE_GENE_ID.search(attributes_str)\n",
    "    return res.group('gene_id')\n",
    "\n",
    "gdf['gene_id'] = gdf.attributes.apply(extract_gene_id)\n",
    "gdf"
   ]
  },
  {
   "cell_type": "code",
   "execution_count": 121,
   "id": "f216a688-279d-433a-8c82-d7c57dff1903",
   "metadata": {},
   "outputs": [
    {
     "name": "stderr",
     "output_type": "stream",
     "text": [
      "/usr/local/lib/python3.6/site-packages/ipykernel_launcher.py:9: SettingWithCopyWarning: \n",
      "A value is trying to be set on a copy of a slice from a DataFrame.\n",
      "Try using .loc[row_indexer,col_indexer] = value instead\n",
      "\n",
      "See the caveats in the documentation: https://pandas.pydata.org/pandas-docs/stable/user_guide/indexing.html#returning-a-view-versus-a-copy\n",
      "  if __name__ == '__main__':\n"
     ]
    },
    {
     "data": {
      "text/html": [
       "<div>\n",
       "<style scoped>\n",
       "    .dataframe tbody tr th:only-of-type {\n",
       "        vertical-align: middle;\n",
       "    }\n",
       "\n",
       "    .dataframe tbody tr th {\n",
       "        vertical-align: top;\n",
       "    }\n",
       "\n",
       "    .dataframe thead th {\n",
       "        text-align: right;\n",
       "    }\n",
       "</style>\n",
       "<table border=\"1\" class=\"dataframe\">\n",
       "  <thead>\n",
       "    <tr style=\"text-align: right;\">\n",
       "      <th></th>\n",
       "      <th>seqid</th>\n",
       "      <th>source</th>\n",
       "      <th>type</th>\n",
       "      <th>start</th>\n",
       "      <th>end</th>\n",
       "      <th>score</th>\n",
       "      <th>strand</th>\n",
       "      <th>phase</th>\n",
       "      <th>attributes</th>\n",
       "      <th>gene_name</th>\n",
       "      <th>gene_id</th>\n",
       "      <th>description</th>\n",
       "    </tr>\n",
       "  </thead>\n",
       "  <tbody>\n",
       "    <tr>\n",
       "      <th>16</th>\n",
       "      <td>1</td>\n",
       "      <td>havana</td>\n",
       "      <td>gene</td>\n",
       "      <td>11869</td>\n",
       "      <td>14409</td>\n",
       "      <td>.</td>\n",
       "      <td>+</td>\n",
       "      <td>.</td>\n",
       "      <td>ID=gene:ENSG00000223972;Name=DDX11L1;biotype=t...</td>\n",
       "      <td>DDX11L1</td>\n",
       "      <td>ENSG00000223972</td>\n",
       "      <td>DEAD/H-box helicase 11 like 1 [Source:HGNC Sym...</td>\n",
       "    </tr>\n",
       "    <tr>\n",
       "      <th>28</th>\n",
       "      <td>1</td>\n",
       "      <td>havana</td>\n",
       "      <td>gene</td>\n",
       "      <td>14404</td>\n",
       "      <td>29570</td>\n",
       "      <td>.</td>\n",
       "      <td>-</td>\n",
       "      <td>.</td>\n",
       "      <td>ID=gene:ENSG00000227232;Name=WASH7P;biotype=un...</td>\n",
       "      <td>WASH7P</td>\n",
       "      <td>ENSG00000227232</td>\n",
       "      <td>WAS protein family homolog 7 pseudogene [Sourc...</td>\n",
       "    </tr>\n",
       "    <tr>\n",
       "      <th>71</th>\n",
       "      <td>1</td>\n",
       "      <td>havana</td>\n",
       "      <td>gene</td>\n",
       "      <td>52473</td>\n",
       "      <td>53312</td>\n",
       "      <td>.</td>\n",
       "      <td>+</td>\n",
       "      <td>.</td>\n",
       "      <td>ID=gene:ENSG00000268020;Name=OR4G4P;biotype=un...</td>\n",
       "      <td>OR4G4P</td>\n",
       "      <td>ENSG00000268020</td>\n",
       "      <td>olfactory receptor family 4 subfamily G member...</td>\n",
       "    </tr>\n",
       "    <tr>\n",
       "      <th>74</th>\n",
       "      <td>1</td>\n",
       "      <td>havana</td>\n",
       "      <td>gene</td>\n",
       "      <td>62948</td>\n",
       "      <td>63887</td>\n",
       "      <td>.</td>\n",
       "      <td>+</td>\n",
       "      <td>.</td>\n",
       "      <td>ID=gene:ENSG00000240361;Name=OR4G11P;biotype=u...</td>\n",
       "      <td>OR4G11P</td>\n",
       "      <td>ENSG00000240361</td>\n",
       "      <td>olfactory receptor family 4 subfamily G member...</td>\n",
       "    </tr>\n",
       "    <tr>\n",
       "      <th>77</th>\n",
       "      <td>1</td>\n",
       "      <td>ensembl_havana</td>\n",
       "      <td>gene</td>\n",
       "      <td>69091</td>\n",
       "      <td>70008</td>\n",
       "      <td>.</td>\n",
       "      <td>+</td>\n",
       "      <td>.</td>\n",
       "      <td>ID=gene:ENSG00000186092;Name=OR4F5;biotype=pro...</td>\n",
       "      <td>OR4F5</td>\n",
       "      <td>ENSG00000186092</td>\n",
       "      <td>olfactory receptor family 4 subfamily F member...</td>\n",
       "    </tr>\n",
       "  </tbody>\n",
       "</table>\n",
       "</div>"
      ],
      "text/plain": [
       "   seqid          source  type  start    end score strand phase  \\\n",
       "16     1          havana  gene  11869  14409     .      +     .   \n",
       "28     1          havana  gene  14404  29570     .      -     .   \n",
       "71     1          havana  gene  52473  53312     .      +     .   \n",
       "74     1          havana  gene  62948  63887     .      +     .   \n",
       "77     1  ensembl_havana  gene  69091  70008     .      +     .   \n",
       "\n",
       "                                           attributes gene_name  \\\n",
       "16  ID=gene:ENSG00000223972;Name=DDX11L1;biotype=t...   DDX11L1   \n",
       "28  ID=gene:ENSG00000227232;Name=WASH7P;biotype=un...    WASH7P   \n",
       "71  ID=gene:ENSG00000268020;Name=OR4G4P;biotype=un...    OR4G4P   \n",
       "74  ID=gene:ENSG00000240361;Name=OR4G11P;biotype=u...   OR4G11P   \n",
       "77  ID=gene:ENSG00000186092;Name=OR4F5;biotype=pro...     OR4F5   \n",
       "\n",
       "            gene_id                                        description  \n",
       "16  ENSG00000223972  DEAD/H-box helicase 11 like 1 [Source:HGNC Sym...  \n",
       "28  ENSG00000227232  WAS protein family homolog 7 pseudogene [Sourc...  \n",
       "71  ENSG00000268020  olfactory receptor family 4 subfamily G member...  \n",
       "74  ENSG00000240361  olfactory receptor family 4 subfamily G member...  \n",
       "77  ENSG00000186092  olfactory receptor family 4 subfamily F member...  "
      ]
     },
     "execution_count": 121,
     "metadata": {},
     "output_type": "execute_result"
    }
   ],
   "source": [
    "RE_GENE_DESC = re.compile(r'description=(?P<description>.+?);')\n",
    "def extract_gene_desc(attributes_str):\n",
    "    res = RE_GENE_DESC.search(attributes_str)\n",
    "    if res is None:\n",
    "        return ''\n",
    "    else:\n",
    "        return res.group('description')\n",
    "\n",
    "gdf['description'] = gdf.attributes.apply(extract_gene_desc)\n",
    "gdf.head(5)"
   ]
  },
  {
   "cell_type": "code",
   "execution_count": 122,
   "id": "a5ad2a43-143e-4dff-9900-9113168d8375",
   "metadata": {},
   "outputs": [
    {
     "name": "stderr",
     "output_type": "stream",
     "text": [
      "/usr/local/lib64/python3.6/site-packages/pandas/core/frame.py:4170: SettingWithCopyWarning: \n",
      "A value is trying to be set on a copy of a slice from a DataFrame\n",
      "\n",
      "See the caveats in the documentation: https://pandas.pydata.org/pandas-docs/stable/user_guide/indexing.html#returning-a-view-versus-a-copy\n",
      "  errors=errors,\n"
     ]
    },
    {
     "data": {
      "text/html": [
       "<div>\n",
       "<style scoped>\n",
       "    .dataframe tbody tr th:only-of-type {\n",
       "        vertical-align: middle;\n",
       "    }\n",
       "\n",
       "    .dataframe tbody tr th {\n",
       "        vertical-align: top;\n",
       "    }\n",
       "\n",
       "    .dataframe thead th {\n",
       "        text-align: right;\n",
       "    }\n",
       "</style>\n",
       "<table border=\"1\" class=\"dataframe\">\n",
       "  <thead>\n",
       "    <tr style=\"text-align: right;\">\n",
       "      <th></th>\n",
       "      <th>seqid</th>\n",
       "      <th>source</th>\n",
       "      <th>type</th>\n",
       "      <th>start</th>\n",
       "      <th>end</th>\n",
       "      <th>gene_name</th>\n",
       "      <th>gene_id</th>\n",
       "      <th>description</th>\n",
       "    </tr>\n",
       "  </thead>\n",
       "  <tbody>\n",
       "    <tr>\n",
       "      <th>16</th>\n",
       "      <td>1</td>\n",
       "      <td>havana</td>\n",
       "      <td>gene</td>\n",
       "      <td>11869</td>\n",
       "      <td>14409</td>\n",
       "      <td>DDX11L1</td>\n",
       "      <td>ENSG00000223972</td>\n",
       "      <td>DEAD/H-box helicase 11 like 1 [Source:HGNC Sym...</td>\n",
       "    </tr>\n",
       "    <tr>\n",
       "      <th>28</th>\n",
       "      <td>1</td>\n",
       "      <td>havana</td>\n",
       "      <td>gene</td>\n",
       "      <td>14404</td>\n",
       "      <td>29570</td>\n",
       "      <td>WASH7P</td>\n",
       "      <td>ENSG00000227232</td>\n",
       "      <td>WAS protein family homolog 7 pseudogene [Sourc...</td>\n",
       "    </tr>\n",
       "    <tr>\n",
       "      <th>71</th>\n",
       "      <td>1</td>\n",
       "      <td>havana</td>\n",
       "      <td>gene</td>\n",
       "      <td>52473</td>\n",
       "      <td>53312</td>\n",
       "      <td>OR4G4P</td>\n",
       "      <td>ENSG00000268020</td>\n",
       "      <td>olfactory receptor family 4 subfamily G member...</td>\n",
       "    </tr>\n",
       "    <tr>\n",
       "      <th>74</th>\n",
       "      <td>1</td>\n",
       "      <td>havana</td>\n",
       "      <td>gene</td>\n",
       "      <td>62948</td>\n",
       "      <td>63887</td>\n",
       "      <td>OR4G11P</td>\n",
       "      <td>ENSG00000240361</td>\n",
       "      <td>olfactory receptor family 4 subfamily G member...</td>\n",
       "    </tr>\n",
       "    <tr>\n",
       "      <th>77</th>\n",
       "      <td>1</td>\n",
       "      <td>ensembl_havana</td>\n",
       "      <td>gene</td>\n",
       "      <td>69091</td>\n",
       "      <td>70008</td>\n",
       "      <td>OR4F5</td>\n",
       "      <td>ENSG00000186092</td>\n",
       "      <td>olfactory receptor family 4 subfamily F member...</td>\n",
       "    </tr>\n",
       "  </tbody>\n",
       "</table>\n",
       "</div>"
      ],
      "text/plain": [
       "   seqid          source  type  start    end gene_name          gene_id  \\\n",
       "16     1          havana  gene  11869  14409   DDX11L1  ENSG00000223972   \n",
       "28     1          havana  gene  14404  29570    WASH7P  ENSG00000227232   \n",
       "71     1          havana  gene  52473  53312    OR4G4P  ENSG00000268020   \n",
       "74     1          havana  gene  62948  63887   OR4G11P  ENSG00000240361   \n",
       "77     1  ensembl_havana  gene  69091  70008     OR4F5  ENSG00000186092   \n",
       "\n",
       "                                          description  \n",
       "16  DEAD/H-box helicase 11 like 1 [Source:HGNC Sym...  \n",
       "28  WAS protein family homolog 7 pseudogene [Sourc...  \n",
       "71  olfactory receptor family 4 subfamily G member...  \n",
       "74  olfactory receptor family 4 subfamily G member...  \n",
       "77  olfactory receptor family 4 subfamily F member...  "
      ]
     },
     "execution_count": 122,
     "metadata": {},
     "output_type": "execute_result"
    }
   ],
   "source": [
    "gdf.drop('attributes', axis=1, inplace=True)\n",
    "gdf.drop('score', axis=1, inplace=True) \n",
    "gdf.drop('strand', axis=1, inplace=True) \n",
    "gdf.drop('phase', axis=1, inplace=True) \n",
    "gdf.head()"
   ]
  },
  {
   "cell_type": "code",
   "execution_count": 123,
   "id": "16987d5a-6d1a-47d8-8d77-01b10634550d",
   "metadata": {},
   "outputs": [
    {
     "data": {
      "text/plain": [
       "array(['DEAD/H-box helicase 11 like 1 [Source:HGNC Symbol%3BAcc:HGNC:37102]',\n",
       "       'WAS protein family homolog 7 pseudogene [Source:HGNC Symbol%3BAcc:HGNC:38034]',\n",
       "       'olfactory receptor family 4 subfamily G member 4 pseudogene [Source:HGNC Symbol%3BAcc:HGNC:14822]',\n",
       "       ...,\n",
       "       'poly(ADP-ribose) polymerase family member 4 pseudogene 1 [Source:HGNC Symbol%3BAcc:HGNC:18500]',\n",
       "       'family with sequence similarity 58 member C%2C pseudogene [Source:HGNC Symbol%3BAcc:HGNC:38436]',\n",
       "       'C-terminal binding protein 2 pseudogene 1 [Source:HGNC Symbol%3BAcc:HGNC:23940]'],\n",
       "      dtype=object)"
      ]
     },
     "execution_count": 123,
     "metadata": {},
     "output_type": "execute_result"
    }
   ],
   "source": [
    "gdf.description.unique()"
   ]
  },
  {
   "cell_type": "code",
   "execution_count": 124,
   "id": "ab035d22-34c8-4c50-b3aa-8f54d4f17984",
   "metadata": {},
   "outputs": [
    {
     "data": {
      "text/plain": [
       "                                                                                                             13871\n",
       "Small Cajal body specific RNA 20 [Source:RFAM%3BAcc:RF00601]                                                     6\n",
       "Small Cajal body specific RNA 16 [Source:RFAM%3BAcc:RF00424]                                                     5\n",
       "small Cajal body-specific RNA 17 [Source:RFAM%3BAcc:RF00492]                                                     4\n",
       "Small Cajal body specific RNA 15 [Source:RFAM%3BAcc:RF00426]                                                     4\n",
       "                                                                                                             ...  \n",
       "MANEA antisense RNA 1 (head to head) [Source:HGNC Symbol%3BAcc:HGNC:43732]                                       1\n",
       "MAGE family member D4 [Source:HGNC Symbol%3BAcc:HGNC:23793]                                                      1\n",
       "splicing factor 3b subunit 3 [Source:HGNC Symbol%3BAcc:HGNC:10770]                                               1\n",
       "RNA pseudouridylate synthase domain containing 1 [Source:HGNC Symbol%3BAcc:HGNC:14173]                           1\n",
       "carcinoembryonic antigen related cell adhesion molecule pseudogene 6 [Source:HGNC Symbol%3BAcc:HGNC:1828]        1\n",
       "Name: description, Length: 28574, dtype: int64"
      ]
     },
     "execution_count": 124,
     "metadata": {},
     "output_type": "execute_result"
    }
   ],
   "source": [
    "gdf.description.value_counts()"
   ]
  },
  {
   "cell_type": "code",
   "execution_count": 125,
   "id": "6506b5da-3ee9-4def-b937-4259effe2186",
   "metadata": {},
   "outputs": [
    {
     "data": {
      "text/plain": [
       "description\n",
       "                                                                       13871\n",
       "Small Cajal body specific RNA 20 [Source:RFAM%3BAcc:RF00601]               6\n",
       "Small Cajal body specific RNA 16 [Source:RFAM%3BAcc:RF00424]               5\n",
       "small Cajal body-specific RNA 17 [Source:RFAM%3BAcc:RF00492]               4\n",
       "Small Cajal body specific RNA 15 [Source:RFAM%3BAcc:RF00426]               4\n",
       "                                                                       ...  \n",
       "cell division cycle 25B [Source:HGNC Symbol%3BAcc:HGNC:1726]               1\n",
       "cell division cycle 25C [Source:HGNC Symbol%3BAcc:HGNC:1727]               1\n",
       "cell adhesion molecule L1 like [Source:HGNC Symbol%3BAcc:HGNC:1939]        1\n",
       "cell adhesion molecule 4 [Source:HGNC Symbol%3BAcc:HGNC:30825]             1\n",
       "cell adhesion molecule 3 [Source:HGNC Symbol%3BAcc:HGNC:17601]             1\n",
       "Name: seqid, Length: 100, dtype: int64"
      ]
     },
     "execution_count": 125,
     "metadata": {},
     "output_type": "execute_result"
    }
   ],
   "source": [
    "gdf_parse= gdf.groupby('description').count().iloc[:, 0].sort_values().iloc[::-1]\n",
    "gdf_parse.head(100)"
   ]
  },
  {
   "cell_type": "code",
   "execution_count": 126,
   "id": "894fcc82-3b04-4e26-aed4-0dbaade23d5a",
   "metadata": {},
   "outputs": [
    {
     "data": {
      "text/plain": [
       "13871"
      ]
     },
     "execution_count": 126,
     "metadata": {},
     "output_type": "execute_result"
    }
   ],
   "source": [
    "most_common_count = gdf_parse.iloc[0]\n",
    "most_common_count"
   ]
  },
  {
   "cell_type": "code",
   "execution_count": 127,
   "id": "f02a40c4-e2af-4181-b45a-40e79ab2a3f2",
   "metadata": {},
   "outputs": [
    {
     "data": {
      "image/png": "[encoded data removed]",
      "text/plain": [
       "<Figure size 1080x1080 with 1 Axes>"
      ]
     },
     "metadata": {
      "needs_background": "light"
     },
     "output_type": "display_data"
    }
   ],
   "source": [
    "#plotting the least common descriptions \n",
    "import random\n",
    "\n",
    "ran_colors = [f'#{hex(random.randint(0, 0xFFFFFF))[2:].zfill(6)}' for i in range(50)]\n",
    "gdf_parse.tail(50).plot(kind='bar', x='description', y='count', color=ran_colors, figsize=(15, 15))\n",
    "plt.xlabel('Description')\n",
    "plt.ylabel('Count')\n",
    "plt.title('Description vs Count Plot')\n",
    "plt.show()"
   ]
  },
  {
   "cell_type": "markdown",
   "id": "3280be74-039a-47f6-8872-fcffe1ad9428",
   "metadata": {},
   "source": [
    "#### W5-H20: Based on our dataset, how many transcripts does a gene typically have? What percentage of genes have more than 1 transcript? Hint: You will need to sum up the exon lengths to get the transcripts. You can use external libraries. "
   ]
  },
  {
   "cell_type": "markdown",
   "id": "240dc822-89bd-4539-a345-1de0a00ff997",
   "metadata": {},
   "source": [
    "Resources to check out\n",
    "1. https://daler.github.io/gffutils/\n",
    "2. http://seqanswers.com/forums/showthread.php?t=4914"
   ]
  },
  {
   "cell_type": "markdown",
   "id": "953242ab-aaea-4129-89c8-a78c6b3e249e",
   "metadata": {},
   "source": [
    "See also\n",
    "\n",
    "   #### [The GFF spec can be found here](https://www.sanger.ac.uk/resources/software/gff/spec.html)\n",
    "   #### [A great explanation on the GFF format can be found here](http://gmod.org/wiki/GFF3)"
   ]
  },
  {
   "cell_type": "code",
   "execution_count": 128,
   "id": "fe9aa186-cb6c-43e6-a78e-0e5a6766dcf4",
   "metadata": {},
   "outputs": [
    {
     "data": {
      "text/plain": [
       "array(['chromosome', 'biological_region', 'gene', 'processed_transcript',\n",
       "       'exon', 'pseudogenic_transcript', 'pseudogene', 'miRNA_gene',\n",
       "       'miRNA', 'lincRNA_gene', 'lincRNA', 'transcript', 'CDS',\n",
       "       'processed_pseudogene', 'snRNA_gene', 'snRNA', 'five_prime_UTR',\n",
       "       'three_prime_UTR', 'aberrant_processed_transcript',\n",
       "       'NMD_transcript_variant', 'RNA', 'snoRNA_gene', 'snoRNA',\n",
       "       'rRNA_gene', 'rRNA', 'V_gene_segment', 'C_gene_segment',\n",
       "       'J_gene_segment', 'VD_gene_segment', 'supercontig', 'mt_gene'],\n",
       "      dtype=object)"
      ]
     },
     "execution_count": 128,
     "metadata": {},
     "output_type": "execute_result"
    }
   ],
   "source": [
    "df.type.unique()"
   ]
  },
  {
   "cell_type": "code",
   "execution_count": 129,
   "id": "7ef39d9c-6c12-44f6-b8bc-b0205f790280",
   "metadata": {},
   "outputs": [
    {
     "data": {
      "text/html": [
       "<div>\n",
       "<style scoped>\n",
       "    .dataframe tbody tr th:only-of-type {\n",
       "        vertical-align: middle;\n",
       "    }\n",
       "\n",
       "    .dataframe tbody tr th {\n",
       "        vertical-align: top;\n",
       "    }\n",
       "\n",
       "    .dataframe thead th {\n",
       "        text-align: right;\n",
       "    }\n",
       "</style>\n",
       "<table border=\"1\" class=\"dataframe\">\n",
       "  <thead>\n",
       "    <tr style=\"text-align: right;\">\n",
       "      <th></th>\n",
       "      <th>seqid</th>\n",
       "      <th>source</th>\n",
       "      <th>type</th>\n",
       "      <th>start</th>\n",
       "      <th>end</th>\n",
       "      <th>score</th>\n",
       "      <th>strand</th>\n",
       "      <th>phase</th>\n",
       "      <th>attributes</th>\n",
       "    </tr>\n",
       "  </thead>\n",
       "  <tbody>\n",
       "    <tr>\n",
       "      <th>0</th>\n",
       "      <td>1</td>\n",
       "      <td>GRCh38</td>\n",
       "      <td>chromosome</td>\n",
       "      <td>1</td>\n",
       "      <td>248956422</td>\n",
       "      <td>.</td>\n",
       "      <td>.</td>\n",
       "      <td>.</td>\n",
       "      <td>ID=chromosome:1;Alias=CM000663.2,chr1,NC_00000...</td>\n",
       "    </tr>\n",
       "    <tr>\n",
       "      <th>1</th>\n",
       "      <td>1</td>\n",
       "      <td>.</td>\n",
       "      <td>biological_region</td>\n",
       "      <td>10469</td>\n",
       "      <td>11240</td>\n",
       "      <td>1.3e+03</td>\n",
       "      <td>.</td>\n",
       "      <td>.</td>\n",
       "      <td>external_name=oe %3D 0.79;logic_name=cpg</td>\n",
       "    </tr>\n",
       "    <tr>\n",
       "      <th>2</th>\n",
       "      <td>1</td>\n",
       "      <td>.</td>\n",
       "      <td>biological_region</td>\n",
       "      <td>10650</td>\n",
       "      <td>10657</td>\n",
       "      <td>0.999</td>\n",
       "      <td>+</td>\n",
       "      <td>.</td>\n",
       "      <td>logic_name=eponine</td>\n",
       "    </tr>\n",
       "    <tr>\n",
       "      <th>3</th>\n",
       "      <td>1</td>\n",
       "      <td>.</td>\n",
       "      <td>biological_region</td>\n",
       "      <td>10655</td>\n",
       "      <td>10657</td>\n",
       "      <td>0.999</td>\n",
       "      <td>-</td>\n",
       "      <td>.</td>\n",
       "      <td>logic_name=eponine</td>\n",
       "    </tr>\n",
       "    <tr>\n",
       "      <th>4</th>\n",
       "      <td>1</td>\n",
       "      <td>.</td>\n",
       "      <td>biological_region</td>\n",
       "      <td>10678</td>\n",
       "      <td>10687</td>\n",
       "      <td>0.999</td>\n",
       "      <td>+</td>\n",
       "      <td>.</td>\n",
       "      <td>logic_name=eponine</td>\n",
       "    </tr>\n",
       "  </tbody>\n",
       "</table>\n",
       "</div>"
      ],
      "text/plain": [
       "  seqid  source               type  start        end    score strand phase  \\\n",
       "0     1  GRCh38         chromosome      1  248956422        .      .     .   \n",
       "1     1       .  biological_region  10469      11240  1.3e+03      .     .   \n",
       "2     1       .  biological_region  10650      10657    0.999      +     .   \n",
       "3     1       .  biological_region  10655      10657    0.999      -     .   \n",
       "4     1       .  biological_region  10678      10687    0.999      +     .   \n",
       "\n",
       "                                          attributes  \n",
       "0  ID=chromosome:1;Alias=CM000663.2,chr1,NC_00000...  \n",
       "1           external_name=oe %3D 0.79;logic_name=cpg  \n",
       "2                                 logic_name=eponine  \n",
       "3                                 logic_name=eponine  \n",
       "4                                 logic_name=eponine  "
      ]
     },
     "execution_count": 129,
     "metadata": {},
     "output_type": "execute_result"
    }
   ],
   "source": [
    "col_names = ['seqid', 'source', 'type', 'start', 'end', 'score', 'strand', 'phase', 'attributes'] \n",
    "df = pd.read_csv('../datasets/Homo_sapiens.GRCh38.85.gff3.gz', compression='gzip',\n",
    "                         sep='\\t', comment='#', low_memory=False,\n",
    "                         header=None, names=col_names)\n",
    "df.head(5)"
   ]
  },
  {
   "cell_type": "code",
   "execution_count": 130,
   "id": "d4155c60-d675-4d6d-b56b-2b227970646b",
   "metadata": {},
   "outputs": [],
   "source": [
    "exon_df = df[df.type == 'exon']"
   ]
  },
  {
   "cell_type": "code",
   "execution_count": 131,
   "id": "87503b6f-4092-4b29-9554-58f171bda790",
   "metadata": {},
   "outputs": [
    {
     "data": {
      "text/html": [
       "<div>\n",
       "<style scoped>\n",
       "    .dataframe tbody tr th:only-of-type {\n",
       "        vertical-align: middle;\n",
       "    }\n",
       "\n",
       "    .dataframe tbody tr th {\n",
       "        vertical-align: top;\n",
       "    }\n",
       "\n",
       "    .dataframe thead th {\n",
       "        text-align: right;\n",
       "    }\n",
       "</style>\n",
       "<table border=\"1\" class=\"dataframe\">\n",
       "  <thead>\n",
       "    <tr style=\"text-align: right;\">\n",
       "      <th></th>\n",
       "      <th>seqid</th>\n",
       "      <th>source</th>\n",
       "      <th>type</th>\n",
       "      <th>start</th>\n",
       "      <th>end</th>\n",
       "      <th>score</th>\n",
       "      <th>strand</th>\n",
       "      <th>phase</th>\n",
       "      <th>attributes</th>\n",
       "    </tr>\n",
       "  </thead>\n",
       "  <tbody>\n",
       "    <tr>\n",
       "      <th>18</th>\n",
       "      <td>1</td>\n",
       "      <td>havana</td>\n",
       "      <td>exon</td>\n",
       "      <td>11869</td>\n",
       "      <td>12227</td>\n",
       "      <td>.</td>\n",
       "      <td>+</td>\n",
       "      <td>.</td>\n",
       "      <td>Parent=transcript:ENST00000456328;Name=ENSE000...</td>\n",
       "    </tr>\n",
       "    <tr>\n",
       "      <th>19</th>\n",
       "      <td>1</td>\n",
       "      <td>havana</td>\n",
       "      <td>exon</td>\n",
       "      <td>12613</td>\n",
       "      <td>12721</td>\n",
       "      <td>.</td>\n",
       "      <td>+</td>\n",
       "      <td>.</td>\n",
       "      <td>Parent=transcript:ENST00000456328;Name=ENSE000...</td>\n",
       "    </tr>\n",
       "    <tr>\n",
       "      <th>20</th>\n",
       "      <td>1</td>\n",
       "      <td>havana</td>\n",
       "      <td>exon</td>\n",
       "      <td>13221</td>\n",
       "      <td>14409</td>\n",
       "      <td>.</td>\n",
       "      <td>+</td>\n",
       "      <td>.</td>\n",
       "      <td>Parent=transcript:ENST00000456328;Name=ENSE000...</td>\n",
       "    </tr>\n",
       "    <tr>\n",
       "      <th>22</th>\n",
       "      <td>1</td>\n",
       "      <td>havana</td>\n",
       "      <td>exon</td>\n",
       "      <td>12010</td>\n",
       "      <td>12057</td>\n",
       "      <td>.</td>\n",
       "      <td>+</td>\n",
       "      <td>.</td>\n",
       "      <td>Parent=transcript:ENST00000450305;Name=ENSE000...</td>\n",
       "    </tr>\n",
       "    <tr>\n",
       "      <th>23</th>\n",
       "      <td>1</td>\n",
       "      <td>havana</td>\n",
       "      <td>exon</td>\n",
       "      <td>12179</td>\n",
       "      <td>12227</td>\n",
       "      <td>.</td>\n",
       "      <td>+</td>\n",
       "      <td>.</td>\n",
       "      <td>Parent=transcript:ENST00000450305;Name=ENSE000...</td>\n",
       "    </tr>\n",
       "  </tbody>\n",
       "</table>\n",
       "</div>"
      ],
      "text/plain": [
       "   seqid  source  type  start    end score strand phase  \\\n",
       "18     1  havana  exon  11869  12227     .      +     .   \n",
       "19     1  havana  exon  12613  12721     .      +     .   \n",
       "20     1  havana  exon  13221  14409     .      +     .   \n",
       "22     1  havana  exon  12010  12057     .      +     .   \n",
       "23     1  havana  exon  12179  12227     .      +     .   \n",
       "\n",
       "                                           attributes  \n",
       "18  Parent=transcript:ENST00000456328;Name=ENSE000...  \n",
       "19  Parent=transcript:ENST00000456328;Name=ENSE000...  \n",
       "20  Parent=transcript:ENST00000456328;Name=ENSE000...  \n",
       "22  Parent=transcript:ENST00000450305;Name=ENSE000...  \n",
       "23  Parent=transcript:ENST00000450305;Name=ENSE000...  "
      ]
     },
     "execution_count": 131,
     "metadata": {},
     "output_type": "execute_result"
    }
   ],
   "source": [
    "exon_df.head()"
   ]
  },
  {
   "cell_type": "code",
   "execution_count": 132,
   "id": "7a50a894-8c4c-43be-831f-9eb0ae3d79cd",
   "metadata": {},
   "outputs": [
    {
     "data": {
      "text/plain": [
       "1182163"
      ]
     },
     "execution_count": 132,
     "metadata": {},
     "output_type": "execute_result"
    }
   ],
   "source": [
    "len(exon_df)"
   ]
  },
  {
   "cell_type": "code",
   "execution_count": 133,
   "id": "5e9de371-b39b-4300-99d7-f1e514a789cc",
   "metadata": {},
   "outputs": [
    {
     "data": {
      "text/plain": [
       "['Parent=transcript:ENST00000527513',\n",
       " 'Name=ENSE00003472752',\n",
       " 'constitutive=0',\n",
       " 'ensembl_end_phase=2',\n",
       " 'ensembl_phase=-1',\n",
       " 'exon_id=ENSE00003472752',\n",
       " 'rank=1',\n",
       " 'version=1']"
      ]
     },
     "execution_count": 133,
     "metadata": {},
     "output_type": "execute_result"
    }
   ],
   "source": [
    "exon_df.attributes.values[23766].split(';')"
   ]
  },
  {
   "cell_type": "code",
   "execution_count": 134,
   "id": "cba948d0-095d-4c13-81fe-57ac69960b2a",
   "metadata": {},
   "outputs": [
    {
     "name": "stderr",
     "output_type": "stream",
     "text": [
      "/usr/local/lib/python3.6/site-packages/ipykernel_launcher.py:1: SettingWithCopyWarning: \n",
      "A value is trying to be set on a copy of a slice from a DataFrame.\n",
      "Try using .loc[row_indexer,col_indexer] = value instead\n",
      "\n",
      "See the caveats in the documentation: https://pandas.pydata.org/pandas-docs/stable/user_guide/indexing.html#returning-a-view-versus-a-copy\n",
      "  \"\"\"Entry point for launching an IPython kernel.\n"
     ]
    },
    {
     "data": {
      "text/html": [
       "<div>\n",
       "<style scoped>\n",
       "    .dataframe tbody tr th:only-of-type {\n",
       "        vertical-align: middle;\n",
       "    }\n",
       "\n",
       "    .dataframe tbody tr th {\n",
       "        vertical-align: top;\n",
       "    }\n",
       "\n",
       "    .dataframe thead th {\n",
       "        text-align: right;\n",
       "    }\n",
       "</style>\n",
       "<table border=\"1\" class=\"dataframe\">\n",
       "  <thead>\n",
       "    <tr style=\"text-align: right;\">\n",
       "      <th></th>\n",
       "      <th>seqid</th>\n",
       "      <th>source</th>\n",
       "      <th>type</th>\n",
       "      <th>start</th>\n",
       "      <th>end</th>\n",
       "      <th>score</th>\n",
       "      <th>strand</th>\n",
       "      <th>phase</th>\n",
       "      <th>attributes</th>\n",
       "      <th>length</th>\n",
       "    </tr>\n",
       "  </thead>\n",
       "  <tbody>\n",
       "    <tr>\n",
       "      <th>18</th>\n",
       "      <td>1</td>\n",
       "      <td>havana</td>\n",
       "      <td>exon</td>\n",
       "      <td>11869</td>\n",
       "      <td>12227</td>\n",
       "      <td>.</td>\n",
       "      <td>+</td>\n",
       "      <td>.</td>\n",
       "      <td>Parent=transcript:ENST00000456328;Name=ENSE000...</td>\n",
       "      <td>359</td>\n",
       "    </tr>\n",
       "    <tr>\n",
       "      <th>19</th>\n",
       "      <td>1</td>\n",
       "      <td>havana</td>\n",
       "      <td>exon</td>\n",
       "      <td>12613</td>\n",
       "      <td>12721</td>\n",
       "      <td>.</td>\n",
       "      <td>+</td>\n",
       "      <td>.</td>\n",
       "      <td>Parent=transcript:ENST00000456328;Name=ENSE000...</td>\n",
       "      <td>109</td>\n",
       "    </tr>\n",
       "    <tr>\n",
       "      <th>20</th>\n",
       "      <td>1</td>\n",
       "      <td>havana</td>\n",
       "      <td>exon</td>\n",
       "      <td>13221</td>\n",
       "      <td>14409</td>\n",
       "      <td>.</td>\n",
       "      <td>+</td>\n",
       "      <td>.</td>\n",
       "      <td>Parent=transcript:ENST00000456328;Name=ENSE000...</td>\n",
       "      <td>1189</td>\n",
       "    </tr>\n",
       "    <tr>\n",
       "      <th>22</th>\n",
       "      <td>1</td>\n",
       "      <td>havana</td>\n",
       "      <td>exon</td>\n",
       "      <td>12010</td>\n",
       "      <td>12057</td>\n",
       "      <td>.</td>\n",
       "      <td>+</td>\n",
       "      <td>.</td>\n",
       "      <td>Parent=transcript:ENST00000450305;Name=ENSE000...</td>\n",
       "      <td>48</td>\n",
       "    </tr>\n",
       "    <tr>\n",
       "      <th>23</th>\n",
       "      <td>1</td>\n",
       "      <td>havana</td>\n",
       "      <td>exon</td>\n",
       "      <td>12179</td>\n",
       "      <td>12227</td>\n",
       "      <td>.</td>\n",
       "      <td>+</td>\n",
       "      <td>.</td>\n",
       "      <td>Parent=transcript:ENST00000450305;Name=ENSE000...</td>\n",
       "      <td>49</td>\n",
       "    </tr>\n",
       "  </tbody>\n",
       "</table>\n",
       "</div>"
      ],
      "text/plain": [
       "   seqid  source  type  start    end score strand phase  \\\n",
       "18     1  havana  exon  11869  12227     .      +     .   \n",
       "19     1  havana  exon  12613  12721     .      +     .   \n",
       "20     1  havana  exon  13221  14409     .      +     .   \n",
       "22     1  havana  exon  12010  12057     .      +     .   \n",
       "23     1  havana  exon  12179  12227     .      +     .   \n",
       "\n",
       "                                           attributes  length  \n",
       "18  Parent=transcript:ENST00000456328;Name=ENSE000...     359  \n",
       "19  Parent=transcript:ENST00000456328;Name=ENSE000...     109  \n",
       "20  Parent=transcript:ENST00000456328;Name=ENSE000...    1189  \n",
       "22  Parent=transcript:ENST00000450305;Name=ENSE000...      48  \n",
       "23  Parent=transcript:ENST00000450305;Name=ENSE000...      49  "
      ]
     },
     "execution_count": 134,
     "metadata": {},
     "output_type": "execute_result"
    }
   ],
   "source": [
    "exon_df['length'] = exon_df.end - exon_df.start + 1 \n",
    "exon_df.head()"
   ]
  },
  {
   "cell_type": "code",
   "execution_count": 135,
   "id": "56cc5a3c-f21f-4e16-9d59-0d5c5c20908d",
   "metadata": {},
   "outputs": [
    {
     "data": {
      "text/plain": [
       "294406476"
      ]
     },
     "execution_count": 135,
     "metadata": {},
     "output_type": "execute_result"
    }
   ],
   "source": [
    "exon_df.length.sum()"
   ]
  },
  {
   "cell_type": "code",
   "execution_count": 136,
   "id": "d301e383-138d-46f5-9ea0-000c3755013a",
   "metadata": {},
   "outputs": [
    {
     "name": "stderr",
     "output_type": "stream",
     "text": [
      "/usr/local/lib/python3.6/site-packages/ipykernel_launcher.py:8: SettingWithCopyWarning: \n",
      "A value is trying to be set on a copy of a slice from a DataFrame.\n",
      "Try using .loc[row_indexer,col_indexer] = value instead\n",
      "\n",
      "See the caveats in the documentation: https://pandas.pydata.org/pandas-docs/stable/user_guide/indexing.html#returning-a-view-versus-a-copy\n",
      "  \n"
     ]
    },
    {
     "data": {
      "text/html": [
       "<div>\n",
       "<style scoped>\n",
       "    .dataframe tbody tr th:only-of-type {\n",
       "        vertical-align: middle;\n",
       "    }\n",
       "\n",
       "    .dataframe tbody tr th {\n",
       "        vertical-align: top;\n",
       "    }\n",
       "\n",
       "    .dataframe thead th {\n",
       "        text-align: right;\n",
       "    }\n",
       "</style>\n",
       "<table border=\"1\" class=\"dataframe\">\n",
       "  <thead>\n",
       "    <tr style=\"text-align: right;\">\n",
       "      <th></th>\n",
       "      <th>seqid</th>\n",
       "      <th>source</th>\n",
       "      <th>type</th>\n",
       "      <th>start</th>\n",
       "      <th>end</th>\n",
       "      <th>score</th>\n",
       "      <th>strand</th>\n",
       "      <th>phase</th>\n",
       "      <th>attributes</th>\n",
       "      <th>length</th>\n",
       "      <th>transcript_id</th>\n",
       "    </tr>\n",
       "  </thead>\n",
       "  <tbody>\n",
       "    <tr>\n",
       "      <th>18</th>\n",
       "      <td>1</td>\n",
       "      <td>havana</td>\n",
       "      <td>exon</td>\n",
       "      <td>11869</td>\n",
       "      <td>12227</td>\n",
       "      <td>.</td>\n",
       "      <td>+</td>\n",
       "      <td>.</td>\n",
       "      <td>Parent=transcript:ENST00000456328;Name=ENSE000...</td>\n",
       "      <td>359</td>\n",
       "      <td>ENST00000456328</td>\n",
       "    </tr>\n",
       "    <tr>\n",
       "      <th>19</th>\n",
       "      <td>1</td>\n",
       "      <td>havana</td>\n",
       "      <td>exon</td>\n",
       "      <td>12613</td>\n",
       "      <td>12721</td>\n",
       "      <td>.</td>\n",
       "      <td>+</td>\n",
       "      <td>.</td>\n",
       "      <td>Parent=transcript:ENST00000456328;Name=ENSE000...</td>\n",
       "      <td>109</td>\n",
       "      <td>ENST00000456328</td>\n",
       "    </tr>\n",
       "    <tr>\n",
       "      <th>20</th>\n",
       "      <td>1</td>\n",
       "      <td>havana</td>\n",
       "      <td>exon</td>\n",
       "      <td>13221</td>\n",
       "      <td>14409</td>\n",
       "      <td>.</td>\n",
       "      <td>+</td>\n",
       "      <td>.</td>\n",
       "      <td>Parent=transcript:ENST00000456328;Name=ENSE000...</td>\n",
       "      <td>1189</td>\n",
       "      <td>ENST00000456328</td>\n",
       "    </tr>\n",
       "    <tr>\n",
       "      <th>22</th>\n",
       "      <td>1</td>\n",
       "      <td>havana</td>\n",
       "      <td>exon</td>\n",
       "      <td>12010</td>\n",
       "      <td>12057</td>\n",
       "      <td>.</td>\n",
       "      <td>+</td>\n",
       "      <td>.</td>\n",
       "      <td>Parent=transcript:ENST00000450305;Name=ENSE000...</td>\n",
       "      <td>48</td>\n",
       "      <td>ENST00000450305</td>\n",
       "    </tr>\n",
       "    <tr>\n",
       "      <th>23</th>\n",
       "      <td>1</td>\n",
       "      <td>havana</td>\n",
       "      <td>exon</td>\n",
       "      <td>12179</td>\n",
       "      <td>12227</td>\n",
       "      <td>.</td>\n",
       "      <td>+</td>\n",
       "      <td>.</td>\n",
       "      <td>Parent=transcript:ENST00000450305;Name=ENSE000...</td>\n",
       "      <td>49</td>\n",
       "      <td>ENST00000450305</td>\n",
       "    </tr>\n",
       "    <tr>\n",
       "      <th>...</th>\n",
       "      <td>...</td>\n",
       "      <td>...</td>\n",
       "      <td>...</td>\n",
       "      <td>...</td>\n",
       "      <td>...</td>\n",
       "      <td>...</td>\n",
       "      <td>...</td>\n",
       "      <td>...</td>\n",
       "      <td>...</td>\n",
       "      <td>...</td>\n",
       "      <td>...</td>\n",
       "    </tr>\n",
       "    <tr>\n",
       "      <th>2601838</th>\n",
       "      <td>Y</td>\n",
       "      <td>havana</td>\n",
       "      <td>exon</td>\n",
       "      <td>26630647</td>\n",
       "      <td>26630749</td>\n",
       "      <td>.</td>\n",
       "      <td>-</td>\n",
       "      <td>.</td>\n",
       "      <td>Parent=transcript:ENST00000435945;Name=ENSE000...</td>\n",
       "      <td>103</td>\n",
       "      <td>ENST00000435945</td>\n",
       "    </tr>\n",
       "    <tr>\n",
       "      <th>2601839</th>\n",
       "      <td>Y</td>\n",
       "      <td>havana</td>\n",
       "      <td>exon</td>\n",
       "      <td>26633345</td>\n",
       "      <td>26633431</td>\n",
       "      <td>.</td>\n",
       "      <td>-</td>\n",
       "      <td>.</td>\n",
       "      <td>Parent=transcript:ENST00000435945;Name=ENSE000...</td>\n",
       "      <td>87</td>\n",
       "      <td>ENST00000435945</td>\n",
       "    </tr>\n",
       "    <tr>\n",
       "      <th>2601840</th>\n",
       "      <td>Y</td>\n",
       "      <td>havana</td>\n",
       "      <td>exon</td>\n",
       "      <td>26634523</td>\n",
       "      <td>26634652</td>\n",
       "      <td>.</td>\n",
       "      <td>-</td>\n",
       "      <td>.</td>\n",
       "      <td>Parent=transcript:ENST00000435945;Name=ENSE000...</td>\n",
       "      <td>130</td>\n",
       "      <td>ENST00000435945</td>\n",
       "    </tr>\n",
       "    <tr>\n",
       "      <th>2601843</th>\n",
       "      <td>Y</td>\n",
       "      <td>havana</td>\n",
       "      <td>exon</td>\n",
       "      <td>26626520</td>\n",
       "      <td>26627159</td>\n",
       "      <td>.</td>\n",
       "      <td>-</td>\n",
       "      <td>.</td>\n",
       "      <td>Parent=transcript:ENST00000435741;Name=ENSE000...</td>\n",
       "      <td>640</td>\n",
       "      <td>ENST00000435741</td>\n",
       "    </tr>\n",
       "    <tr>\n",
       "      <th>2601848</th>\n",
       "      <td>Y</td>\n",
       "      <td>havana</td>\n",
       "      <td>exon</td>\n",
       "      <td>56855244</td>\n",
       "      <td>56855488</td>\n",
       "      <td>.</td>\n",
       "      <td>+</td>\n",
       "      <td>.</td>\n",
       "      <td>Parent=transcript:ENST00000431853;Name=ENSE000...</td>\n",
       "      <td>245</td>\n",
       "      <td>ENST00000431853</td>\n",
       "    </tr>\n",
       "  </tbody>\n",
       "</table>\n",
       "<p>1182163 rows × 11 columns</p>\n",
       "</div>"
      ],
      "text/plain": [
       "        seqid  source  type     start       end score strand phase  \\\n",
       "18          1  havana  exon     11869     12227     .      +     .   \n",
       "19          1  havana  exon     12613     12721     .      +     .   \n",
       "20          1  havana  exon     13221     14409     .      +     .   \n",
       "22          1  havana  exon     12010     12057     .      +     .   \n",
       "23          1  havana  exon     12179     12227     .      +     .   \n",
       "...       ...     ...   ...       ...       ...   ...    ...   ...   \n",
       "2601838     Y  havana  exon  26630647  26630749     .      -     .   \n",
       "2601839     Y  havana  exon  26633345  26633431     .      -     .   \n",
       "2601840     Y  havana  exon  26634523  26634652     .      -     .   \n",
       "2601843     Y  havana  exon  26626520  26627159     .      -     .   \n",
       "2601848     Y  havana  exon  56855244  56855488     .      +     .   \n",
       "\n",
       "                                                attributes  length  \\\n",
       "18       Parent=transcript:ENST00000456328;Name=ENSE000...     359   \n",
       "19       Parent=transcript:ENST00000456328;Name=ENSE000...     109   \n",
       "20       Parent=transcript:ENST00000456328;Name=ENSE000...    1189   \n",
       "22       Parent=transcript:ENST00000450305;Name=ENSE000...      48   \n",
       "23       Parent=transcript:ENST00000450305;Name=ENSE000...      49   \n",
       "...                                                    ...     ...   \n",
       "2601838  Parent=transcript:ENST00000435945;Name=ENSE000...     103   \n",
       "2601839  Parent=transcript:ENST00000435945;Name=ENSE000...      87   \n",
       "2601840  Parent=transcript:ENST00000435945;Name=ENSE000...     130   \n",
       "2601843  Parent=transcript:ENST00000435741;Name=ENSE000...     640   \n",
       "2601848  Parent=transcript:ENST00000431853;Name=ENSE000...     245   \n",
       "\n",
       "           transcript_id  \n",
       "18       ENST00000456328  \n",
       "19       ENST00000456328  \n",
       "20       ENST00000456328  \n",
       "22       ENST00000450305  \n",
       "23       ENST00000450305  \n",
       "...                  ...  \n",
       "2601838  ENST00000435945  \n",
       "2601839  ENST00000435945  \n",
       "2601840  ENST00000435945  \n",
       "2601843  ENST00000435741  \n",
       "2601848  ENST00000431853  \n",
       "\n",
       "[1182163 rows x 11 columns]"
      ]
     },
     "execution_count": 136,
     "metadata": {},
     "output_type": "execute_result"
    }
   ],
   "source": [
    "import re\n",
    "\n",
    "RE_GENE_NAME = re.compile(r'Parent=transcript:(\\w+)') \n",
    "def extract_gene_name(attributes_str):\n",
    "    res = RE_GENE_NAME.search(attributes_str)\n",
    "    return res.group(1)\n",
    "\n",
    "exon_df['transcript_id'] = exon_df.attributes.apply(extract_gene_name)\n",
    "exon_df"
   ]
  },
  {
   "cell_type": "code",
   "execution_count": 137,
   "id": "1170e8be-3517-4eb6-81b8-c0ff2ecaa1c5",
   "metadata": {},
   "outputs": [],
   "source": [
    "grouped = exon_df.groupby(\"transcript_id\")[\"length\"].sum().reset_index()\n",
    "grouped = grouped.rename(columns={\"length\": \"total_length\"})"
   ]
  },
  {
   "cell_type": "code",
   "execution_count": 138,
   "id": "50805b9c-573b-41da-9557-16eae86f75bb",
   "metadata": {},
   "outputs": [
    {
     "data": {
      "text/html": [
       "<div>\n",
       "<style scoped>\n",
       "    .dataframe tbody tr th:only-of-type {\n",
       "        vertical-align: middle;\n",
       "    }\n",
       "\n",
       "    .dataframe tbody tr th {\n",
       "        vertical-align: top;\n",
       "    }\n",
       "\n",
       "    .dataframe thead th {\n",
       "        text-align: right;\n",
       "    }\n",
       "</style>\n",
       "<table border=\"1\" class=\"dataframe\">\n",
       "  <thead>\n",
       "    <tr style=\"text-align: right;\">\n",
       "      <th></th>\n",
       "      <th>transcript_id</th>\n",
       "      <th>total_length</th>\n",
       "    </tr>\n",
       "  </thead>\n",
       "  <tbody>\n",
       "    <tr>\n",
       "      <th>0</th>\n",
       "      <td>ENST00000000233</td>\n",
       "      <td>1103</td>\n",
       "    </tr>\n",
       "    <tr>\n",
       "      <th>1</th>\n",
       "      <td>ENST00000000412</td>\n",
       "      <td>2756</td>\n",
       "    </tr>\n",
       "    <tr>\n",
       "      <th>2</th>\n",
       "      <td>ENST00000000442</td>\n",
       "      <td>2215</td>\n",
       "    </tr>\n",
       "    <tr>\n",
       "      <th>3</th>\n",
       "      <td>ENST00000001008</td>\n",
       "      <td>3732</td>\n",
       "    </tr>\n",
       "    <tr>\n",
       "      <th>4</th>\n",
       "      <td>ENST00000001146</td>\n",
       "      <td>4732</td>\n",
       "    </tr>\n",
       "    <tr>\n",
       "      <th>...</th>\n",
       "      <td>...</td>\n",
       "      <td>...</td>\n",
       "    </tr>\n",
       "    <tr>\n",
       "      <th>197997</th>\n",
       "      <td>ENST00000638161</td>\n",
       "      <td>668</td>\n",
       "    </tr>\n",
       "    <tr>\n",
       "      <th>197998</th>\n",
       "      <td>ENST00000638162</td>\n",
       "      <td>2433</td>\n",
       "    </tr>\n",
       "    <tr>\n",
       "      <th>197999</th>\n",
       "      <td>ENST00000638163</td>\n",
       "      <td>528</td>\n",
       "    </tr>\n",
       "    <tr>\n",
       "      <th>198000</th>\n",
       "      <td>ENST00000638164</td>\n",
       "      <td>713</td>\n",
       "    </tr>\n",
       "    <tr>\n",
       "      <th>198001</th>\n",
       "      <td>ENST00000638165</td>\n",
       "      <td>1783</td>\n",
       "    </tr>\n",
       "  </tbody>\n",
       "</table>\n",
       "<p>198002 rows × 2 columns</p>\n",
       "</div>"
      ],
      "text/plain": [
       "          transcript_id  total_length\n",
       "0       ENST00000000233          1103\n",
       "1       ENST00000000412          2756\n",
       "2       ENST00000000442          2215\n",
       "3       ENST00000001008          3732\n",
       "4       ENST00000001146          4732\n",
       "...                 ...           ...\n",
       "197997  ENST00000638161           668\n",
       "197998  ENST00000638162          2433\n",
       "197999  ENST00000638163           528\n",
       "198000  ENST00000638164           713\n",
       "198001  ENST00000638165          1783\n",
       "\n",
       "[198002 rows x 2 columns]"
      ]
     },
     "execution_count": 138,
     "metadata": {},
     "output_type": "execute_result"
    }
   ],
   "source": [
    "grouped"
   ]
  },
  {
   "cell_type": "code",
   "execution_count": 139,
   "id": "32949d33-16f8-436e-b300-19724aa0db08",
   "metadata": {},
   "outputs": [
    {
     "data": {
      "text/html": [
       "<div>\n",
       "<style scoped>\n",
       "    .dataframe tbody tr th:only-of-type {\n",
       "        vertical-align: middle;\n",
       "    }\n",
       "\n",
       "    .dataframe tbody tr th {\n",
       "        vertical-align: top;\n",
       "    }\n",
       "\n",
       "    .dataframe thead th {\n",
       "        text-align: right;\n",
       "    }\n",
       "</style>\n",
       "<table border=\"1\" class=\"dataframe\">\n",
       "  <thead>\n",
       "    <tr style=\"text-align: right;\">\n",
       "      <th></th>\n",
       "      <th>transcript_id</th>\n",
       "      <th>total_length</th>\n",
       "    </tr>\n",
       "  </thead>\n",
       "  <tbody>\n",
       "    <tr>\n",
       "      <th>41488</th>\n",
       "      <td>ENST00000415118</td>\n",
       "      <td>8</td>\n",
       "    </tr>\n",
       "    <tr>\n",
       "      <th>54082</th>\n",
       "      <td>ENST00000434970</td>\n",
       "      <td>9</td>\n",
       "    </tr>\n",
       "    <tr>\n",
       "      <th>57186</th>\n",
       "      <td>ENST00000439842</td>\n",
       "      <td>11</td>\n",
       "    </tr>\n",
       "    <tr>\n",
       "      <th>194822</th>\n",
       "      <td>ENST00000632684</td>\n",
       "      <td>12</td>\n",
       "    </tr>\n",
       "    <tr>\n",
       "      <th>62898</th>\n",
       "      <td>ENST00000448914</td>\n",
       "      <td>13</td>\n",
       "    </tr>\n",
       "    <tr>\n",
       "      <th>51860</th>\n",
       "      <td>ENST00000431440</td>\n",
       "      <td>16</td>\n",
       "    </tr>\n",
       "    <tr>\n",
       "      <th>41317</th>\n",
       "      <td>ENST00000414852</td>\n",
       "      <td>16</td>\n",
       "    </tr>\n",
       "    <tr>\n",
       "      <th>52120</th>\n",
       "      <td>ENST00000431870</td>\n",
       "      <td>16</td>\n",
       "    </tr>\n",
       "    <tr>\n",
       "      <th>64266</th>\n",
       "      <td>ENST00000451044</td>\n",
       "      <td>17</td>\n",
       "    </tr>\n",
       "    <tr>\n",
       "      <th>51217</th>\n",
       "      <td>ENST00000430425</td>\n",
       "      <td>17</td>\n",
       "    </tr>\n",
       "  </tbody>\n",
       "</table>\n",
       "</div>"
      ],
      "text/plain": [
       "          transcript_id  total_length\n",
       "41488   ENST00000415118             8\n",
       "54082   ENST00000434970             9\n",
       "57186   ENST00000439842            11\n",
       "194822  ENST00000632684            12\n",
       "62898   ENST00000448914            13\n",
       "51860   ENST00000431440            16\n",
       "41317   ENST00000414852            16\n",
       "52120   ENST00000431870            16\n",
       "64266   ENST00000451044            17\n",
       "51217   ENST00000430425            17"
      ]
     },
     "execution_count": 139,
     "metadata": {},
     "output_type": "execute_result"
    }
   ],
   "source": [
    "grouped_sorted = grouped.sort_values(by=\"total_length\")\n",
    "grouped_sorted.head(10)"
   ]
  },
  {
   "cell_type": "code",
   "execution_count": 140,
   "id": "6bdefa5f-edc2-4871-a106-e94c970d37aa",
   "metadata": {},
   "outputs": [
    {
     "data": {
      "text/plain": [
       "count    198002.000000\n",
       "mean       1486.886375\n",
       "std        1894.989426\n",
       "min           8.000000\n",
       "25%         550.000000\n",
       "50%         785.000000\n",
       "75%        1877.000000\n",
       "max      205012.000000\n",
       "Name: total_length, dtype: float64"
      ]
     },
     "execution_count": 140,
     "metadata": {},
     "output_type": "execute_result"
    }
   ],
   "source": [
    "grouped.total_length.describe()"
   ]
  },
  {
   "cell_type": "code",
   "execution_count": 142,
   "id": "d0603a77-a8c2-4e05-800e-5e0930b207a4",
   "metadata": {},
   "outputs": [],
   "source": [
    "## these lines printed out all the transcript id and the length but kept making my jupyter notebook crash because it was so large\n",
    "#for i in range(len(grouped)):\n",
    "    #transcript_id = grouped.iloc[i][\"transcript_id\"]\n",
    "    #transcript_length = grouped.iloc[i][\"total_length\"]\n",
    "    #print('Transcript ID {}, Transcript Length {}'.format(transcript_id, transcript_length))"
   ]
  },
  {
   "cell_type": "code",
   "execution_count": 146,
   "id": "884fd0e1-0961-47cd-b6de-09bf903d8a06",
   "metadata": {},
   "outputs": [
    {
     "data": {
      "text/plain": [
       "1486.8863748851022"
      ]
     },
     "execution_count": 146,
     "metadata": {},
     "output_type": "execute_result"
    }
   ],
   "source": [
    "avg_num_transcripts = grouped[\"total_length\"].mean()\n",
    "avg_num_transcripts"
   ]
  },
  {
   "cell_type": "markdown",
   "id": "ae31e528-48f8-4794-83f6-79e854566b58",
   "metadata": {},
   "source": [
    "The average is 2-3 kilobases (kb), which is 2000-3000 base pairs for each transcript. "
   ]
  },
  {
   "cell_type": "markdown",
   "id": "bc94cecf-5cca-44b5-b3f7-1cecb53121ba",
   "metadata": {},
   "source": [
    "Below I will find the number of transcripts that have more than 1000 base pairs (1kb). "
   ]
  },
  {
   "cell_type": "code",
   "execution_count": 148,
   "id": "a8d8c75d-23fa-4919-95d1-e76820c5f7d5",
   "metadata": {},
   "outputs": [
    {
     "data": {
      "text/plain": [
       "79018"
      ]
     },
     "execution_count": 148,
     "metadata": {},
     "output_type": "execute_result"
    }
   ],
   "source": [
    "over_1000 = grouped[\"total_length\"] > 1000\n",
    "over_1000.sum()"
   ]
  },
  {
   "cell_type": "code",
   "execution_count": 149,
   "id": "e3267831-00ec-4404-97f3-1c1efc11472f",
   "metadata": {},
   "outputs": [
    {
     "data": {
      "text/plain": [
       "118902"
      ]
     },
     "execution_count": 149,
     "metadata": {},
     "output_type": "execute_result"
    }
   ],
   "source": [
    "under_1000 = grouped[\"total_length\"] < 1000\n",
    "under_1000.sum()"
   ]
  }
 ],
 "metadata": {
  "kernelspec": {
   "display_name": "Python 3",
   "language": "python",
   "name": "python3"
  },
  "language_info": {
   "codemirror_mode": {
    "name": "ipython",
    "version": 3
   },
   "file_extension": ".py",
   "mimetype": "text/x-python",
   "name": "python",
   "nbconvert_exporter": "python",
   "pygments_lexer": "ipython3",
   "version": "3.6.8"
  }
 },
 "nbformat": 4,
 "nbformat_minor": 5
}
